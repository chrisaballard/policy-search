{
 "cells": [
  {
   "cell_type": "markdown",
   "id": "4242cd9e-80ec-40d1-8333-c3c489948fd1",
   "metadata": {
    "tags": []
   },
   "source": [
    "# Experimenting with zero-shot classifiers as a noisy label source\n",
    "\n",
    "At sentence level within parsed policy documents.\n",
    "\n",
    "<a href=\"https://githubtocolab.com/climatepolicyradar/policy-search/blob/master/nbs/notebooks/2021-10-04_experiment_-_zero-shot_sentence_classification.ipynb\" target=\"_blank\"><img src=\"https://colab.research.google.com/assets/colab-badge.svg\" alt=\"Open in Colab\"/></a>"
   ]
  },
  {
   "cell_type": "code",
   "execution_count": 164,
   "id": "6e846dda-8a87-45ab-99f1-d31c2470da05",
   "metadata": {},
   "outputs": [
    {
     "name": "stdout",
     "output_type": "stream",
     "text": [
      "huggingface/tokenizers: The current process just got forked, after parallelism has already been used. Disabling parallelism to avoid deadlocks...\n",
      "To disable this warning, you can either:\n",
      "\t- Avoid using `tokenizers` before the fork if possible\n",
      "\t- Explicitly set the environment variable TOKENIZERS_PARALLELISM=(true | false)\n",
      "Requirement already satisfied: torch in /Users/kalyan/Documents/CPR/policy-search/.venv/lib/python3.8/site-packages (1.8.1)\n",
      "Requirement already satisfied: transformers in /Users/kalyan/Documents/CPR/policy-search/.venv/lib/python3.8/site-packages (4.6.1)\n",
      "Requirement already satisfied: typing-extensions in /Users/kalyan/Documents/CPR/policy-search/.venv/lib/python3.8/site-packages (from torch) (3.10.0.2)\n",
      "Requirement already satisfied: numpy in /Users/kalyan/Documents/CPR/policy-search/.venv/lib/python3.8/site-packages (from torch) (1.21.1)\n",
      "Requirement already satisfied: packaging in /Users/kalyan/Documents/CPR/policy-search/.venv/lib/python3.8/site-packages (from transformers) (21.0)\n",
      "Requirement already satisfied: huggingface-hub==0.0.8 in /Users/kalyan/Documents/CPR/policy-search/.venv/lib/python3.8/site-packages (from transformers) (0.0.8)\n",
      "Requirement already satisfied: filelock in /Users/kalyan/Documents/CPR/policy-search/.venv/lib/python3.8/site-packages (from transformers) (3.0.12)\n",
      "Requirement already satisfied: requests in /Users/kalyan/Documents/CPR/policy-search/.venv/lib/python3.8/site-packages (from transformers) (2.26.0)\n",
      "Requirement already satisfied: tokenizers<0.11,>=0.10.1 in /Users/kalyan/Documents/CPR/policy-search/.venv/lib/python3.8/site-packages (from transformers) (0.10.3)\n",
      "Requirement already satisfied: sacremoses in /Users/kalyan/Documents/CPR/policy-search/.venv/lib/python3.8/site-packages (from transformers) (0.0.45)\n",
      "Requirement already satisfied: tqdm>=4.27 in /Users/kalyan/Documents/CPR/policy-search/.venv/lib/python3.8/site-packages (from transformers) (4.62.3)\n",
      "Requirement already satisfied: regex!=2019.12.17 in /Users/kalyan/Documents/CPR/policy-search/.venv/lib/python3.8/site-packages (from transformers) (2021.8.28)\n",
      "Requirement already satisfied: pyparsing>=2.0.2 in /Users/kalyan/Documents/CPR/policy-search/.venv/lib/python3.8/site-packages (from packaging->transformers) (2.4.7)\n",
      "Requirement already satisfied: charset-normalizer~=2.0.0 in /Users/kalyan/Documents/CPR/policy-search/.venv/lib/python3.8/site-packages (from requests->transformers) (2.0.6)\n",
      "Requirement already satisfied: urllib3<1.27,>=1.21.1 in /Users/kalyan/Documents/CPR/policy-search/.venv/lib/python3.8/site-packages (from requests->transformers) (1.26.7)\n",
      "Requirement already satisfied: idna<4,>=2.5 in /Users/kalyan/Documents/CPR/policy-search/.venv/lib/python3.8/site-packages (from requests->transformers) (3.2)\n",
      "Requirement already satisfied: certifi>=2017.4.17 in /Users/kalyan/Documents/CPR/policy-search/.venv/lib/python3.8/site-packages (from requests->transformers) (2021.5.30)\n",
      "Requirement already satisfied: six in /Users/kalyan/Documents/CPR/policy-search/.venv/lib/python3.8/site-packages (from sacremoses->transformers) (1.16.0)\n",
      "Requirement already satisfied: joblib in /Users/kalyan/Documents/CPR/policy-search/.venv/lib/python3.8/site-packages (from sacremoses->transformers) (1.0.1)\n",
      "Requirement already satisfied: click in /Users/kalyan/Documents/CPR/policy-search/.venv/lib/python3.8/site-packages (from sacremoses->transformers) (8.0.1)\n"
     ]
    }
   ],
   "source": [
    "# notebook-specific dependencies\n",
    "\n",
    "!python -m pip install torch transformers "
   ]
  },
  {
   "cell_type": "code",
   "execution_count": 22,
   "id": "c6011c7e-cc99-4bd2-bbb7-1ad08a484f81",
   "metadata": {},
   "outputs": [],
   "source": [
    "from pathlib import Path\n",
    "\n",
    "import yaml\n",
    "import pandas as pd\n",
    "from transformers import pipeline\n",
    "\n",
    "DATA_FOLDER = Path(\"../data\")"
   ]
  },
  {
   "cell_type": "code",
   "execution_count": 41,
   "id": "45b7b075-4424-4186-b62b-e0a1ad417ad4",
   "metadata": {},
   "outputs": [],
   "source": [
    "def flatten_list_of_lists(l: list) -> list:\n",
    "    \"\"\"\n",
    "    [[1, 2], [3]] -> [1, 2, 3]\n",
    "    [[1, 2], 3] -> [1, 2, 3]\n",
    "    \"\"\"\n",
    "\n",
    "    res = []\n",
    "\n",
    "    for item in l:\n",
    "        if isinstance(item, list):\n",
    "            res = res + item\n",
    "        else:\n",
    "            res.append(item)\n",
    "\n",
    "    return res\n"
   ]
  },
  {
   "cell_type": "code",
   "execution_count": 7,
   "id": "fc21d895-8fbc-4ea6-b766-53561c6bbee5",
   "metadata": {},
   "outputs": [
    {
     "name": "stdout",
     "output_type": "stream",
     "text": [
      "<class 'pandas.core.frame.DataFrame'>\n",
      "RangeIndex: 1666918 entries, 0 to 1666917\n",
      "Data columns (total 4 columns):\n",
      " #   Column       Non-Null Count    Dtype \n",
      "---  ------       --------------    ----- \n",
      " 0   policy_id    1666918 non-null  int64 \n",
      " 1   policy_name  1666918 non-null  object\n",
      " 2   page_id      1666918 non-null  int64 \n",
      " 3   text         1666918 non-null  object\n",
      "dtypes: int64(2), object(2)\n",
      "memory usage: 50.9+ MB\n"
     ]
    }
   ],
   "source": [
    "df = pd.read_csv(DATA_FOLDER/\"policy_dataset.csv\")\n",
    "\n",
    "df.info(verbose=True)"
   ]
  },
  {
   "cell_type": "markdown",
   "id": "d62f4120-3077-4f5e-b0cc-ec5214664b1a",
   "metadata": {},
   "source": [
    "## 1. Get class labels, download models\n",
    "\n",
    "### 1a) Get class labels"
   ]
  },
  {
   "cell_type": "code",
   "execution_count": 38,
   "id": "610a7e94-96cc-46c2-9449-97fb1a66435f",
   "metadata": {},
   "outputs": [],
   "source": [
    "SCHEMA_FOLDER = Path(\"../schema\")\n",
    "\n",
    "with open(SCHEMA_FOLDER/\"instruments.yml\", \"r\") as f:\n",
    "    instruments = yaml.safe_load(f)\n",
    "    \n",
    "instruments_names = {i['name']: [v['name'] for v in i['levels']] for i in instruments}"
   ]
  },
  {
   "cell_type": "code",
   "execution_count": 130,
   "id": "e41e27f0-a325-4991-b32f-49dfe6951c70",
   "metadata": {},
   "outputs": [],
   "source": [
    "class Schema:\n",
    "    def __init__(self, data):\n",
    "        self.data = data\n",
    "    \n",
    "    @classmethod\n",
    "    def from_yaml_path(cls, path: Path):\n",
    "        with open(path, \"r\") as f:\n",
    "            data = yaml.safe_load(f)\n",
    "            \n",
    "        return Schema(data)\n",
    "\n",
    "    @property\n",
    "    def name_subsector_mapping(self):\n",
    "        return {i['name']: [v['name'] for v in i['levels']] for i in self.data}\n",
    "    \n",
    "    @property\n",
    "    def name_keyword_mapping(self):\n",
    "        return {i['name']: flatten_list_of_lists([v['keywords'] for v in i['levels']]) for i in self.data}\n",
    "    \n",
    "    @property\n",
    "    def subsector_keyword_mapping(self):\n",
    "        return {v['name']: v['keywords'] for i in self.data for v in i['levels']}\n",
    "    \n",
    "    @property\n",
    "    def all_keywords(self):\n",
    "        return list(self.keyword_subsector_mapping.keys())\n",
    "    \n",
    "    @property\n",
    "    def keyword_subsector_mapping(self):\n",
    "        kwd_subsector_mapping = dict()\n",
    "        \n",
    "        for subsector, kwd_list in self.subsector_keyword_mapping.items():\n",
    "            for keyword in kwd_list:\n",
    "                kwd_subsector_mapping.update({keyword: subsector})\n",
    "                                             \n",
    "        return kwd_subsector_mapping\n",
    "    "
   ]
  },
  {
   "cell_type": "code",
   "execution_count": 132,
   "id": "3dba2cbc-9598-40e9-98cb-b30870cdcab7",
   "metadata": {
    "tags": []
   },
   "outputs": [],
   "source": [
    "instruments = Schema.from_yaml_path(SCHEMA_FOLDER/\"instruments.yml\")\n",
    "sectors = Schema.from_yaml_path(SCHEMA_FOLDER/\"sectors.yml\")"
   ]
  },
  {
   "cell_type": "markdown",
   "id": "664a3ead-6da8-4994-97f8-0d3d21daf5e7",
   "metadata": {},
   "source": [
    "### 1b) Get models"
   ]
  },
  {
   "cell_type": "markdown",
   "id": "29f8c261-83f8-46f3-b2fe-1544f260ada9",
   "metadata": {},
   "source": [
    "#### typeform, distilbert MNLI"
   ]
  },
  {
   "cell_type": "code",
   "execution_count": 118,
   "id": "91bf8c38-cd76-4ff1-af9b-bfb93976c1b7",
   "metadata": {},
   "outputs": [
    {
     "name": "stderr",
     "output_type": "stream",
     "text": [
      "The `xla_device` argument has been deprecated in v4.4.0 of Transformers. It is ignored and you can safely remove it from your `config.json` file.\n",
      "The `xla_device` argument has been deprecated in v4.4.0 of Transformers. It is ignored and you can safely remove it from your `config.json` file.\n"
     ]
    }
   ],
   "source": [
    "# typeform, distilbert MNLI: https://huggingface.co/typeform/distilbert-base-uncased-mnli\n",
    "clf_bert = pipeline(\"zero-shot-classification\", model=\"typeform/distilbert-base-uncased-mnli\")"
   ]
  },
  {
   "cell_type": "code",
   "execution_count": 126,
   "id": "5f391c03-206f-4c4b-aceb-e9d599a684bf",
   "metadata": {},
   "outputs": [
    {
     "data": {
      "text/plain": [
       "[('investment', 0.9992654323577881),\n",
       " ('obligations', 0.976239800453186),\n",
       " ('funding', 0.9000128507614136),\n",
       " ('finance', 0.7846159338951111),\n",
       " ('interest', 0.7175412774085999)]"
      ]
     },
     "execution_count": 126,
     "metadata": {},
     "output_type": "execute_result"
    }
   ],
   "source": [
    "text = \"\"\"Support around £3.6 billion of investment to upgrade around a million homes through the Energy Company Obligation (ECO), and extend support for home energy efficiency improvements until 2028 at the current level of ECO funding\"\"\"\n",
    "\n",
    "classify(clf_bert, text, i.all_keywords, threshold=0.7)"
   ]
  },
  {
   "cell_type": "markdown",
   "id": "ac9b5254-cf2d-49ed-b969-ff1a4ffa0a5c",
   "metadata": {},
   "source": [
    "### 1c) Classification helper\n"
   ]
  },
  {
   "cell_type": "code",
   "execution_count": 141,
   "id": "d96e8f3e-37b4-41e3-ba34-d888b7c655d1",
   "metadata": {},
   "outputs": [],
   "source": [
    "def classify(clf: pipeline, text: str, classes: list, threshold: float, multilabel: bool = True):\n",
    "    results_raw = clf(text, classes, multi_label=multilabel)\n",
    "    res = []\n",
    "    \n",
    "    for idx in range(len(results_raw['labels'])):\n",
    "        if results_raw['scores'][idx] >= threshold:\n",
    "            res.append(\n",
    "                (results_raw['labels'][idx], results_raw['scores'][idx])\n",
    "            )\n",
    "            \n",
    "    return res\n",
    "    \n",
    "\n",
    "class ZeroShotClassifier:\n",
    "    def __init__(self, schema: Schema, huggingface_pipeline_name: str = \"typeform/distilbert-base-uncased-mnli\", multi_label: bool = True):\n",
    "        self.schema = schema\n",
    "        self.multi_label = multi_label\n",
    "        self.clf = self._load_pipeline_from_huggingface(huggingface_pipeline_name)\n",
    "        \n",
    "        self._keyword_subsector_mapping = self.schema.keyword_subsector_mapping\n",
    "    \n",
    "    def _load_pipeline_from_huggingface(self, name: str):\n",
    "        return pipeline(\"zero-shot-classification\", model=name)\n",
    "    \n",
    "    @property\n",
    "    def _class_labels(self):\n",
    "        return self.schema.all_keywords\n",
    "        \n",
    "    def predict(self, text: str, threshold: float):\n",
    "        pipeline_result = self.clf(text, self._class_labels, multi_label=self.multi_label)\n",
    "        \n",
    "        res = []\n",
    "        for idx in range(len(pipeline_result['labels'])):\n",
    "            if pipeline_result['scores'][idx] >= threshold:\n",
    "                _label = pipeline_result['labels'][idx]\n",
    "                _score = pipeline_result['scores'][idx]\n",
    "                res.append(\n",
    "                    (_label, self._keyword_subsector_mapping[_label], pipeline_result['scores'][idx])\n",
    "                )\n",
    "\n",
    "        return res\n"
   ]
  },
  {
   "cell_type": "code",
   "execution_count": 142,
   "id": "a2574ca4-dd9c-427d-9caa-7e20988f2a14",
   "metadata": {},
   "outputs": [
    {
     "name": "stderr",
     "output_type": "stream",
     "text": [
      "The `xla_device` argument has been deprecated in v4.4.0 of Transformers. It is ignored and you can safely remove it from your `config.json` file.\n",
      "The `xla_device` argument has been deprecated in v4.4.0 of Transformers. It is ignored and you can safely remove it from your `config.json` file.\n"
     ]
    },
    {
     "data": {
      "text/plain": [
       "[('investment', 'Infrastructure', 0.9992654323577881),\n",
       " ('obligations', 'Obligations', 0.976239800453186),\n",
       " ('funding', 'Finance', 0.9000128507614136),\n",
       " ('finance', 'Finance', 0.7846159338951111),\n",
       " ('interest', 'Finance', 0.7175412774085999)]"
      ]
     },
     "execution_count": 142,
     "metadata": {},
     "output_type": "execute_result"
    }
   ],
   "source": [
    "clf = ZeroShotClassifier(instruments)\n",
    "clf.predict(text, threshold=0.7)"
   ]
  },
  {
   "cell_type": "markdown",
   "id": "bb64b596-30c5-44cf-8122-3bc72fc71a29",
   "metadata": {},
   "source": [
    "## 2. Run zero-shot classifiers on a few examples"
   ]
  },
  {
   "cell_type": "code",
   "execution_count": 148,
   "id": "e327f9d3-b05d-461f-bfaf-79f3be1d11ff",
   "metadata": {},
   "outputs": [
    {
     "name": "stderr",
     "output_type": "stream",
     "text": [
      "The `xla_device` argument has been deprecated in v4.4.0 of Transformers. It is ignored and you can safely remove it from your `config.json` file.\n",
      "The `xla_device` argument has been deprecated in v4.4.0 of Transformers. It is ignored and you can safely remove it from your `config.json` file.\n",
      "The `xla_device` argument has been deprecated in v4.4.0 of Transformers. It is ignored and you can safely remove it from your `config.json` file.\n",
      "The `xla_device` argument has been deprecated in v4.4.0 of Transformers. It is ignored and you can safely remove it from your `config.json` file.\n"
     ]
    }
   ],
   "source": [
    "n_examples = 15\n",
    "examples = df.sample(n_examples, random_state=42)['text'].tolist()\n",
    "\n",
    "clf_instruments = ZeroShotClassifier(instruments)\n",
    "clf_sectors = ZeroShotClassifier(sectors)"
   ]
  },
  {
   "cell_type": "code",
   "execution_count": 163,
   "id": "5a3055ec-18ac-4427-85e4-ff5123ad2ab0",
   "metadata": {},
   "outputs": [
    {
     "name": "stdout",
     "output_type": "stream",
     "text": [
      "Governance comprises the traditions, institutions and processes that determine how power is shared and exercised, how decisions are made and how authority responds on issues of public concern.\n",
      "INSTRUMENT PREDICTIONS\n",
      "- ('structures', 'Structures and processes', 0.999853789806366)\n",
      "- ('processes', 'Designing processes', 0.99956214427948)\n",
      "- ('organisation', 'Creating bodies/institutions', 0.9960892796516418)\n",
      "\n",
      "SECTOR PREDICTIONS\n",
      "- ('power', 'Energy use', 0.9722657799720764)\n",
      "----------------------\n",
      "Our strategy to achieve carbon budgets 43\n",
      "INSTRUMENT PREDICTIONS\n",
      "- ('strategic plan', 'Developing plans and stratgegies', 0.9998148083686829)\n",
      "- ('carbon budget', 'Designing processes', 0.9997868537902832)\n",
      "- ('strategy', 'Developing plans and stratgegies', 0.9997297525405884)\n",
      "- ('plan', 'Developing plans and stratgegies', 0.9995908141136169)\n",
      "- ('carbon pricing', 'Market-based instruments', 0.9854298830032349)\n",
      "- ('processes', 'Designing processes', 0.8829991221427917)\n",
      "- ('stakeholder engagement', 'Structures and processes', 0.8663399815559387)\n",
      "- ('finance', 'Finance', 0.8648225665092468)\n",
      "- ('interest', 'Finance', 0.8473407030105591)\n",
      "- ('target', 'Setting targets', 0.8004060983657837)\n",
      "\n",
      "SECTOR PREDICTIONS\n",
      "- ('finance', 'Finance', 0.8648225665092468)\n",
      "----------------------\n",
      "Power to accept subscriptions and donations.\n",
      "INSTRUMENT PREDICTIONS\n",
      "- ('processes', 'Designing processes', 0.9997909665107727)\n",
      "- ('strategy', 'Developing plans and stratgegies', 0.9995656609535217)\n",
      "- ('financing structure', 'Fiscal or financial incentives', 0.999019980430603)\n",
      "- ('co-ordinating body', 'Creating bodies/institutions', 0.9743892550468445)\n",
      "- ('financial incentives', 'Fiscal or financial incentives', 0.9712235927581787)\n",
      "- ('labelling', 'Labelling and information', 0.9636625647544861)\n",
      "- ('insitutions', 'Creating bodies/institutions', 0.9487895369529724)\n",
      "- ('multi-level governance', 'Multi-level governance', 0.9012807607650757)\n",
      "- ('protocol', 'Designing processes', 0.8662344813346863)\n",
      "- ('resilience funding', 'Infrastructure', 0.8449039459228516)\n",
      "- ('obligations', 'Obligations', 0.8360551595687866)\n",
      "- ('financial flows', 'Finance', 0.8220425844192505)\n",
      "- ('responsibility', 'Obligations', 0.8079777359962463)\n",
      "- ('interest', 'Finance', 0.8015334010124207)\n",
      "\n",
      "SECTOR PREDICTIONS\n",
      "- ('power', 'Energy use', 0.9998466372489929)\n",
      "- ('power industry', 'Energy production', 0.9825807809829712)\n",
      "- ('seal levels', 'Adaptation', 0.8870505690574646)\n",
      "- ('semi-detached house', 'Residential buildings', 0.8410389423370361)\n",
      "- ('marine biodiversity', 'Coastal zones', 0.8103786110877991)\n",
      "----------------------\n",
      "This implicates a direct influence on 300000 people living in the coastal Municipalities and indirectly over 3 million The Guiding Principles of the Policy are: The General Object of the Policy is that the marine and coastal ecosystems measures, to ensure improved integrated coastal and aquatic resource management are therefore essential, both for restoring carbon sink capacity, as well as for health, livelihood, incomes and food security.\n",
      "INSTRUMENT PREDICTIONS\n",
      "- ('responsibility', 'Obligations', 0.9996270537376404)\n",
      "- ('target', 'Setting targets', 0.9707501530647278)\n",
      "- ('resource management', 'Structures and processes', 0.9625319242477417)\n",
      "- ('strategy', 'Developing plans and stratgegies', 0.9539042115211487)\n",
      "- ('interest', 'Finance', 0.9081001877784729)\n",
      "- ('guideline', 'Standards', 0.8123152852058411)\n",
      "\n",
      "SECTOR PREDICTIONS\n",
      "- ('coasts', 'Coastal zones', 0.9996669292449951)\n",
      "- ('coastal zones', 'Coastal zones', 0.9952414035797119)\n",
      "- ('marine biodiversity', 'Coastal zones', 0.9922667145729065)\n",
      "- ('ecosystem-based adaptation', 'Nature-based solutions', 0.9604863524436951)\n",
      "- ('environment', 'Environment', 0.9121219515800476)\n",
      "- ('onshore', 'Energy production', 0.9084196090698242)\n",
      "- ('biodiversity', 'Environment', 0.8991624712944031)\n",
      "- ('hazard', 'Adaptation', 0.8787946105003357)\n",
      "- ('water quality', 'Environment', 0.8387844562530518)\n",
      "----------------------\n",
      "Member States shall, in their reports submitted pursuant to Article 3 of Decision No 280/2004/EC, include the following: (a) their annual greenhouse gas emissions resulting from the implementation of Article 3.\n",
      "INSTRUMENT PREDICTIONS\n",
      "- ('reporting', 'Monitoring and evaluation', 0.9808403849601746)\n",
      "- ('reporting information', 'Knowledge sharing and dissemination', 0.9683470726013184)\n",
      "- ('labelling', 'Labelling and information', 0.8902963995933533)\n",
      "\n",
      "SECTOR PREDICTIONS\n",
      "\n",
      "----------------------\n",
      "To improve the existing systems of disaster risk management to minimize the 6.\n",
      "INSTRUMENT PREDICTIONS\n",
      "- ('amending target', 'Setting targets', 0.9811904430389404)\n",
      "- ('management', 'Management and planning', 0.96209716796875)\n",
      "- ('interest', 'Finance', 0.832413911819458)\n",
      "\n",
      "SECTOR PREDICTIONS\n",
      "- ('disaster risk management', 'Disaster risk management', 0.99935382604599)\n",
      "- ('adaptation', 'Adaptation', 0.988074541091919)\n",
      "- ('rewetting', 'Land use', 0.976834774017334)\n",
      "- ('vulnerability', 'Adaptation', 0.9453431367874146)\n",
      "- ('resilience', 'Adaptation', 0.9451705813407898)\n",
      "----------------------\n",
      "Acoustic insulation F.4.2 Thermal Insulation F.4.3 Humidity F.4.4\n",
      "INSTRUMENT PREDICTIONS\n",
      "- ('structures', 'Structures and processes', 0.9554384350776672)\n",
      "\n",
      "SECTOR PREDICTIONS\n",
      "- ('temperature variability', 'Adaptation', 0.9982333183288574)\n",
      "- ('insulation', 'Buildings (general)', 0.9979681372642517)\n",
      "- ('heating', 'Energy use', 0.9962716102600098)\n",
      "- ('cooling', 'Energy use', 0.9956120848655701)\n",
      "- ('energy use', 'Energy use', 0.9450072646141052)\n",
      "- ('energy for buildings', 'Buildings (general)', 0.9028399586677551)\n",
      "- ('energy availability', 'Adaptation', 0.852629542350769)\n",
      "- ('energy efficiency', 'Energy use', 0.8243194222450256)\n",
      "- ('energy distribution', 'Energy production', 0.8057311177253723)\n",
      "- ('energy performance', 'Energy use', 0.8025767803192139)\n",
      "----------------------\n",
      "- Establish Quality Management System in place to provide weather information to the aviation industry and other relevant agencies ( ie with ICAO/SPREP ) assessments, surveys and data analyses.\n",
      "INSTRUMENT PREDICTIONS\n",
      "- ('information', 'Labelling and information', 0.8796949982643127)\n",
      "\n",
      "SECTOR PREDICTIONS\n",
      "- ('air quality', 'Environment', 0.9664173722267151)\n",
      "- ('industry', 'Industry (general)', 0.938716471195221)\n",
      "- ('climate forecasting', 'Disaster risk management', 0.9302290678024292)\n",
      "- ('climate monitoring', 'Disaster risk management', 0.8950756192207336)\n",
      "----------------------\n",
      "In response, a Functional Road Hierarchy should be determined into the following primary functions: National Road Network Strategic routes which are generally expressways and all-purpose dual carriageways linking population and activity centres and providing transit corridors.\n",
      "INSTRUMENT PREDICTIONS\n",
      "- ('national strategy', 'Developing plans and stratgegies', 0.9994595646858215)\n",
      "- ('strategy', 'Developing plans and stratgegies', 0.9901966452598572)\n",
      "- ('strategic body', 'Creating bodies/institutions', 0.9197556972503662)\n",
      "- ('monitoring', 'Monitoring and evaluation', 0.8925064206123352)\n",
      "\n",
      "SECTOR PREDICTIONS\n",
      "- ('road transport', 'Road transport', 0.993526041507721)\n",
      "- ('transport infrastructure', 'Transport infrastructure', 0.9179484248161316)\n",
      "----------------------\n",
      "[30/2008 wef 17/02/2008] (ii) although not having the prescribed qualifications and prescribed practical experience, satisfies the Commissioner that he has nevertheless had such practical experience as to render him, in the opinion of the Commissioner, competent to manage the business of a general builder in Singapore.\n",
      "INSTRUMENT PREDICTIONS\n",
      "\n",
      "\n",
      "SECTOR PREDICTIONS\n",
      "\n",
      "----------------------\n",
      "The Seventh Schedule to the Finance Act, 2001 shall be amended in the manner specified in the Eleventh Schedule.\n",
      "INSTRUMENT PREDICTIONS\n",
      "- ('finance', 'Finance', 0.9880021810531616)\n",
      "\n",
      "SECTOR PREDICTIONS\n",
      "- ('finance', 'Finance', 0.9880021810531616)\n",
      "- ('rewetting', 'Land use', 0.8610954284667969)\n",
      "----------------------\n",
      "H.R. Rep. No. 95294, at 194 (May 12, 1977).\n",
      "INSTRUMENT PREDICTIONS\n",
      "- ('labelling', 'Labelling and information', 0.8943430185317993)\n",
      "\n",
      "SECTOR PREDICTIONS\n",
      "- ('coasts', 'Coastal zones', 0.8981632590293884)\n",
      "- ('onshore', 'Energy production', 0.8508707284927368)\n",
      "- ('marine biodiversity', 'Coastal zones', 0.8419478535652161)\n",
      "- ('homes', 'Residential buildings', 0.8240455389022827)\n",
      "- ('residential buildings', 'Residential buildings', 0.8168257474899292)\n",
      "- ('coastal zones', 'Coastal zones', 0.80861496925354)\n",
      "----------------------\n",
      "The most ice cover is observed in the western part of Pamir Mountains.\n",
      "INSTRUMENT PREDICTIONS\n",
      "\n",
      "\n",
      "SECTOR PREDICTIONS\n",
      "\n",
      "----------------------\n",
      "The Need for a New Gas Policy .\n",
      "INSTRUMENT PREDICTIONS\n",
      "- ('strategy', 'Developing plans and stratgegies', 0.9990741610527039)\n",
      "- ('amending target', 'Setting targets', 0.9871554374694824)\n",
      "- ('responsibility', 'Obligations', 0.9446239471435547)\n",
      "- ('interest', 'Finance', 0.8927907347679138)\n",
      "\n",
      "SECTOR PREDICTIONS\n",
      "- ('rewetting', 'Land use', 0.9957269430160522)\n",
      "- ('gas', 'Energy production', 0.9955933094024658)\n",
      "- ('gasoline', 'Transport (general)', 0.9330244064331055)\n",
      "- ('energy use', 'Energy use', 0.8854053020477295)\n",
      "- ('fuel transformation', 'Energy production', 0.8758103251457214)\n",
      "- ('adaptation', 'Adaptation', 0.8485309481620789)\n",
      "----------------------\n",
      "2 Namibias 5 National Development Plan 2.\n",
      "INSTRUMENT PREDICTIONS\n",
      "- ('plan', 'Developing plans and stratgegies', 0.9546834230422974)\n",
      "- ('strategy', 'Developing plans and stratgegies', 0.9093133211135864)\n",
      "- ('national strategy', 'Developing plans and stratgegies', 0.8867360949516296)\n",
      "- ('planning', 'Management and planning', 0.8262208104133606)\n",
      "- ('amending target', 'Setting targets', 0.8123164772987366)\n",
      "\n",
      "SECTOR PREDICTIONS\n",
      "\n",
      "----------------------\n"
     ]
    }
   ],
   "source": [
    "THRESHOLD = 0.8\n",
    "\n",
    "for _str in examples:\n",
    "    print(_str)\n",
    "    print()\n",
    "    print(\"INSTRUMENT PREDICTIONS\")\n",
    "    print(\"\\n\".join([f\"- {pred}\" for pred in clf_instruments.predict(_str, THRESHOLD)]))\n",
    "    print()\n",
    "    print(\"SECTOR PREDICTIONS\")\n",
    "    print(\"\\n\".join([f\"- {pred}\" for pred in clf_sectors.predict(_str, THRESHOLD)]))\n",
    "    print(\"----------------------\")"
   ]
  },
  {
   "cell_type": "code",
   "execution_count": null,
   "id": "b8b7eb2e-1c3e-4211-8067-e93bfc211948",
   "metadata": {},
   "outputs": [],
   "source": []
  }
 ],
 "metadata": {
  "kernelspec": {
   "display_name": "Python 3 (ipykernel)",
   "language": "python",
   "name": "python3"
  },
  "language_info": {
   "codemirror_mode": {
    "name": "ipython",
    "version": 3
   },
   "file_extension": ".py",
   "mimetype": "text/x-python",
   "name": "python",
   "nbconvert_exporter": "python",
   "pygments_lexer": "ipython3",
   "version": "3.8.7"
  }
 },
 "nbformat": 4,
 "nbformat_minor": 5
}
