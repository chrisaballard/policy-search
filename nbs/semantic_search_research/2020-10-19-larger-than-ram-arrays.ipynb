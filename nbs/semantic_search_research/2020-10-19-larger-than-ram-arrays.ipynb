{
 "cells": [
  {
   "cell_type": "markdown",
   "id": "9ae85587-bc45-4794-9935-f84af5a24f32",
   "metadata": {},
   "source": [
    "# Processing larger than RAM arrays"
   ]
  },
  {
   "cell_type": "code",
   "execution_count": 20,
   "id": "a4962352-fb60-4990-92c9-1b7f0ae65d6c",
   "metadata": {},
   "outputs": [],
   "source": [
    "import sys\n",
    "\n",
    "import gzip\n",
    "import pickle\n",
    "import torch\n",
    "import numpy as np\n",
    "import pandas as pd"
   ]
  },
  {
   "cell_type": "code",
   "execution_count": 33,
   "id": "6262896a-d851-48aa-baf3-cfc8df374d15",
   "metadata": {},
   "outputs": [],
   "source": [
    "def load_gzipped_pytorch_embeddings(filename):\n",
    "    \"\"\"Load compressed embeddings\n",
    "    \"\"\"\n",
    "    \n",
    "    with gzip.open(filename, 'rb') as emb_f:\n",
    "        embeddings = pickle.load(emb_f)\n",
    "    # file = gzip.GzipFile(filename, 'rb')\n",
    "    # data = file.read()\n",
    "    # obj = pickle.loads(data)\n",
    "    # file.close()\n",
    "    return embeddings\n"
   ]
  },
  {
   "cell_type": "code",
   "execution_count": null,
   "id": "28450c94-ab5e-4426-acde-ffddfa76b268",
   "metadata": {},
   "outputs": [],
   "source": [
    "# big_embeddings_path = \"../../../s3-buckets/cpr-datasets/policy_text_embeddings_multi-qa-MiniLM-L6-cos-v1.pkl.gz\"\n",
    "big_embeddings_path = \"../../../s3-buckets/cpr-datasets/policy_text_embeddings_msmarco-distilbert-dot-v5.pkl.gz\"\n",
    "mappings_path = \"../../../s3-buckets/cpr-datasets/policy_text_embeddings_mapping_multi-qa-MiniLM-L6-cos-v1.pkl.gz\"\n",
    "\n",
    "emb = load_gzipped_pytorch_embeddings(big_embeddings_path)\n",
    "\n",
    "mapping = pd.read_pickle(mappings_path, compression=\"gzip\")"
   ]
  },
  {
   "cell_type": "code",
   "execution_count": null,
   "id": "326c206c-92ea-463a-85c7-e53498bc8637",
   "metadata": {},
   "outputs": [],
   "source": [
    "emb.dtype"
   ]
  },
  {
   "cell_type": "code",
   "execution_count": null,
   "id": "93bff809-294a-4227-a31b-5d3c9ad33b1f",
   "metadata": {},
   "outputs": [],
   "source": [
    "f\"{sys.getsizeof(emb.storage()) / 1e9} GB\""
   ]
  },
  {
   "cell_type": "code",
   "execution_count": null,
   "id": "db4cdd8b-a9dd-455a-8385-f49a08235332",
   "metadata": {},
   "outputs": [],
   "source": [
    "emb.numpy().shape"
   ]
  },
  {
   "cell_type": "code",
   "execution_count": null,
   "id": "b296b7c2-2057-4e1e-b59e-aaece0f0e32d",
   "metadata": {},
   "outputs": [],
   "source": [
    "emb_mm = np.memmap('../../../s3-buckets/cpr-datasets/policy_text_embeddings_msmarco-distilbert-dot-v5_dim_384.mymemmap', dtype='float32', mode='w+', shape=emb.numpy().shape)"
   ]
  },
  {
   "cell_type": "code",
   "execution_count": null,
   "id": "576071a6-05dc-4342-be8c-5eebd3f0d837",
   "metadata": {},
   "outputs": [],
   "source": [
    "emb_mm[:] = emb.numpy()[:]"
   ]
  },
  {
   "cell_type": "code",
   "execution_count": 41,
   "id": "396283d9-6efd-4d9f-9f27-04bcee7f99b5",
   "metadata": {},
   "outputs": [],
   "source": [
    "del emb\n",
    "del emb_mm"
   ]
  },
  {
   "cell_type": "code",
   "execution_count": 42,
   "id": "b905d77a-f6f4-4ca2-8acf-372b2d95dc4e",
   "metadata": {},
   "outputs": [
    {
     "data": {
      "text/plain": [
       "(1666918, 384)"
      ]
     },
     "execution_count": 42,
     "metadata": {},
     "output_type": "execute_result"
    }
   ],
   "source": [
    "mm_loaded = np.memmap('test.mymemmap', dtype='float32', mode='r+', shape=(1666918, 384))\n",
    "mm_loaded.shape"
   ]
  },
  {
   "cell_type": "code",
   "execution_count": 43,
   "id": "43b19f0a-2671-4cce-b246-7795bf6c5632",
   "metadata": {},
   "outputs": [
    {
     "data": {
      "text/plain": [
       "array([[-0.04356783,  0.07272697,  0.05683589, ...,  0.00689421,\n",
       "        -0.07691474,  0.02155772],\n",
       "       [ 0.03467601,  0.00806095,  0.04000822, ...,  0.04712495,\n",
       "         0.05529409, -0.05920185],\n",
       "       [-0.00875157,  0.09728127,  0.00627775, ..., -0.01215494,\n",
       "        -0.0151676 ,  0.00647304],\n",
       "       ...,\n",
       "       [-0.00618983, -0.00748422, -0.02027573, ...,  0.04320186,\n",
       "         0.01393319,  0.01562135],\n",
       "       [ 0.04180384,  0.12031212,  0.00712933, ...,  0.06030804,\n",
       "         0.01011585,  0.03136686],\n",
       "       [ 0.0486473 ,  0.01465825, -0.04043028, ..., -0.02719378,\n",
       "         0.073947  , -0.02428901]], dtype=float32)"
      ]
     },
     "execution_count": 43,
     "metadata": {},
     "output_type": "execute_result"
    }
   ],
   "source": [
    "text_ids = mapping.loc[mapping['policy_id'] == 0, 'text_id']\n",
    "mm_loaded[text_ids, :]"
   ]
  },
  {
   "cell_type": "code",
   "execution_count": null,
   "id": "3eb402c8-9955-4aa7-85d6-a073a519099e",
   "metadata": {},
   "outputs": [],
   "source": []
  }
 ],
 "metadata": {
  "kernelspec": {
   "display_name": "Python 3 (ipykernel)",
   "language": "python",
   "name": "python3"
  },
  "language_info": {
   "codemirror_mode": {
    "name": "ipython",
    "version": 3
   },
   "file_extension": ".py",
   "mimetype": "text/x-python",
   "name": "python",
   "nbconvert_exporter": "python",
   "pygments_lexer": "ipython3",
   "version": "3.8.7"
  }
 },
 "nbformat": 4,
 "nbformat_minor": 5
}
