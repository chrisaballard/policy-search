{
 "cells": [
  {
   "cell_type": "code",
   "execution_count": 1,
   "id": "a8b41a46-0e1e-4e66-9056-4a5f930e2398",
   "metadata": {},
   "outputs": [
    {
     "name": "stdout",
     "output_type": "stream",
     "text": [
      "Requirement already satisfied: faiss-cpu in /Users/kalyan/.pyenv/versions/3.8.7/lib/python3.8/site-packages (1.7.1.post2)\n",
      "Requirement already satisfied: torch in /Users/kalyan/.pyenv/versions/3.8.7/lib/python3.8/site-packages (1.9.1)\n",
      "Requirement already satisfied: sentence-transformers in /Users/kalyan/.pyenv/versions/3.8.7/lib/python3.8/site-packages (2.1.0)\n",
      "Requirement already satisfied: ipywidgets in /Users/kalyan/.pyenv/versions/3.8.7/lib/python3.8/site-packages (7.6.5)\n",
      "Requirement already satisfied: typing-extensions in /Users/kalyan/.local/lib/python3.8/site-packages (from torch) (3.10.0.2)\n",
      "Requirement already satisfied: torchvision in /Users/kalyan/.pyenv/versions/3.8.7/lib/python3.8/site-packages (from sentence-transformers) (0.10.1)\n",
      "Requirement already satisfied: scikit-learn in /Users/kalyan/.pyenv/versions/3.8.7/lib/python3.8/site-packages (from sentence-transformers) (1.0)\n",
      "Requirement already satisfied: transformers<5.0.0,>=4.6.0 in /Users/kalyan/.pyenv/versions/3.8.7/lib/python3.8/site-packages (from sentence-transformers) (4.11.3)\n",
      "Requirement already satisfied: huggingface-hub in /Users/kalyan/.pyenv/versions/3.8.7/lib/python3.8/site-packages (from sentence-transformers) (0.0.19)\n",
      "Requirement already satisfied: numpy in /Users/kalyan/.pyenv/versions/3.8.7/lib/python3.8/site-packages (from sentence-transformers) (1.19.5)\n",
      "Requirement already satisfied: tqdm in /Users/kalyan/.pyenv/versions/3.8.7/lib/python3.8/site-packages (from sentence-transformers) (4.62.3)\n",
      "Requirement already satisfied: sentencepiece in /Users/kalyan/.pyenv/versions/3.8.7/lib/python3.8/site-packages (from sentence-transformers) (0.1.96)\n",
      "Requirement already satisfied: scipy in /Users/kalyan/.pyenv/versions/3.8.7/lib/python3.8/site-packages (from sentence-transformers) (1.7.1)\n",
      "Requirement already satisfied: tokenizers>=0.10.3 in /Users/kalyan/.pyenv/versions/3.8.7/lib/python3.8/site-packages (from sentence-transformers) (0.10.3)\n",
      "Requirement already satisfied: nltk in /Users/kalyan/.pyenv/versions/3.8.7/lib/python3.8/site-packages (from sentence-transformers) (3.6.5)\n",
      "Requirement already satisfied: widgetsnbextension~=3.5.0 in /Users/kalyan/.pyenv/versions/3.8.7/lib/python3.8/site-packages (from ipywidgets) (3.5.1)\n",
      "Requirement already satisfied: jupyterlab-widgets>=1.0.0 in /Users/kalyan/.pyenv/versions/3.8.7/lib/python3.8/site-packages (from ipywidgets) (1.0.2)\n",
      "Requirement already satisfied: ipykernel>=4.5.1 in /Users/kalyan/.pyenv/versions/3.8.7/lib/python3.8/site-packages (from ipywidgets) (6.4.1)\n",
      "Requirement already satisfied: nbformat>=4.2.0 in /Users/kalyan/.pyenv/versions/3.8.7/lib/python3.8/site-packages (from ipywidgets) (5.1.3)\n",
      "Requirement already satisfied: traitlets>=4.3.1 in /Users/kalyan/.pyenv/versions/3.8.7/lib/python3.8/site-packages (from ipywidgets) (5.1.0)\n",
      "Requirement already satisfied: ipython>=4.0.0 in /Users/kalyan/.pyenv/versions/3.8.7/lib/python3.8/site-packages (from ipywidgets) (7.28.0)\n",
      "Requirement already satisfied: ipython-genutils~=0.2.0 in /Users/kalyan/.pyenv/versions/3.8.7/lib/python3.8/site-packages (from ipywidgets) (0.2.0)\n",
      "Requirement already satisfied: appnope in /Users/kalyan/.pyenv/versions/3.8.7/lib/python3.8/site-packages (from ipykernel>=4.5.1->ipywidgets) (0.1.2)\n",
      "Requirement already satisfied: jupyter-client<8.0 in /Users/kalyan/.pyenv/versions/3.8.7/lib/python3.8/site-packages (from ipykernel>=4.5.1->ipywidgets) (7.0.6)\n",
      "Requirement already satisfied: matplotlib-inline<0.2.0,>=0.1.0 in /Users/kalyan/.pyenv/versions/3.8.7/lib/python3.8/site-packages (from ipykernel>=4.5.1->ipywidgets) (0.1.3)\n",
      "Requirement already satisfied: debugpy<2.0,>=1.0.0 in /Users/kalyan/.pyenv/versions/3.8.7/lib/python3.8/site-packages (from ipykernel>=4.5.1->ipywidgets) (1.5.0)\n",
      "Requirement already satisfied: tornado<7.0,>=4.2 in /Users/kalyan/.pyenv/versions/3.8.7/lib/python3.8/site-packages (from ipykernel>=4.5.1->ipywidgets) (6.1)\n",
      "Requirement already satisfied: prompt-toolkit!=3.0.0,!=3.0.1,<3.1.0,>=2.0.0 in /Users/kalyan/.pyenv/versions/3.8.7/lib/python3.8/site-packages (from ipython>=4.0.0->ipywidgets) (3.0.20)\n",
      "Requirement already satisfied: pygments in /Users/kalyan/.pyenv/versions/3.8.7/lib/python3.8/site-packages (from ipython>=4.0.0->ipywidgets) (2.10.0)\n",
      "Requirement already satisfied: decorator in /Users/kalyan/.pyenv/versions/3.8.7/lib/python3.8/site-packages (from ipython>=4.0.0->ipywidgets) (5.1.0)\n",
      "Requirement already satisfied: backcall in /Users/kalyan/.pyenv/versions/3.8.7/lib/python3.8/site-packages (from ipython>=4.0.0->ipywidgets) (0.2.0)\n",
      "Requirement already satisfied: pickleshare in /Users/kalyan/.pyenv/versions/3.8.7/lib/python3.8/site-packages (from ipython>=4.0.0->ipywidgets) (0.7.5)\n",
      "Requirement already satisfied: pexpect>4.3 in /Users/kalyan/.local/lib/python3.8/site-packages (from ipython>=4.0.0->ipywidgets) (4.8.0)\n",
      "Requirement already satisfied: jedi>=0.16 in /Users/kalyan/.pyenv/versions/3.8.7/lib/python3.8/site-packages (from ipython>=4.0.0->ipywidgets) (0.18.0)\n",
      "Requirement already satisfied: setuptools>=18.5 in /Users/kalyan/.pyenv/versions/3.8.7/lib/python3.8/site-packages (from ipython>=4.0.0->ipywidgets) (58.0.4)\n",
      "Requirement already satisfied: parso<0.9.0,>=0.8.0 in /Users/kalyan/.pyenv/versions/3.8.7/lib/python3.8/site-packages (from jedi>=0.16->ipython>=4.0.0->ipywidgets) (0.8.2)\n",
      "Requirement already satisfied: entrypoints in /Users/kalyan/.pyenv/versions/3.8.7/lib/python3.8/site-packages (from jupyter-client<8.0->ipykernel>=4.5.1->ipywidgets) (0.3)\n",
      "Requirement already satisfied: python-dateutil>=2.1 in /Users/kalyan/.pyenv/versions/3.8.7/lib/python3.8/site-packages (from jupyter-client<8.0->ipykernel>=4.5.1->ipywidgets) (2.8.2)\n",
      "Requirement already satisfied: jupyter-core>=4.6.0 in /Users/kalyan/.pyenv/versions/3.8.7/lib/python3.8/site-packages (from jupyter-client<8.0->ipykernel>=4.5.1->ipywidgets) (4.8.1)\n",
      "Requirement already satisfied: nest-asyncio>=1.5 in /Users/kalyan/.pyenv/versions/3.8.7/lib/python3.8/site-packages (from jupyter-client<8.0->ipykernel>=4.5.1->ipywidgets) (1.5.1)\n",
      "Requirement already satisfied: pyzmq>=13 in /Users/kalyan/.pyenv/versions/3.8.7/lib/python3.8/site-packages (from jupyter-client<8.0->ipykernel>=4.5.1->ipywidgets) (22.3.0)\n",
      "Requirement already satisfied: jsonschema!=2.5.0,>=2.4 in /Users/kalyan/.pyenv/versions/3.8.7/lib/python3.8/site-packages (from nbformat>=4.2.0->ipywidgets) (4.1.0)\n",
      "Requirement already satisfied: pyrsistent!=0.17.0,!=0.17.1,!=0.17.2,>=0.14.0 in /Users/kalyan/.pyenv/versions/3.8.7/lib/python3.8/site-packages (from jsonschema!=2.5.0,>=2.4->nbformat>=4.2.0->ipywidgets) (0.18.0)\n",
      "Requirement already satisfied: attrs>=17.4.0 in /Users/kalyan/.local/lib/python3.8/site-packages (from jsonschema!=2.5.0,>=2.4->nbformat>=4.2.0->ipywidgets) (21.2.0)\n",
      "Requirement already satisfied: ptyprocess>=0.5 in /Users/kalyan/.local/lib/python3.8/site-packages (from pexpect>4.3->ipython>=4.0.0->ipywidgets) (0.7.0)\n",
      "Requirement already satisfied: wcwidth in /Users/kalyan/.pyenv/versions/3.8.7/lib/python3.8/site-packages (from prompt-toolkit!=3.0.0,!=3.0.1,<3.1.0,>=2.0.0->ipython>=4.0.0->ipywidgets) (0.2.5)\n",
      "Requirement already satisfied: six>=1.5 in /Users/kalyan/.pyenv/versions/3.8.7/lib/python3.8/site-packages (from python-dateutil>=2.1->jupyter-client<8.0->ipykernel>=4.5.1->ipywidgets) (1.16.0)\n",
      "Requirement already satisfied: sacremoses in /Users/kalyan/.pyenv/versions/3.8.7/lib/python3.8/site-packages (from transformers<5.0.0,>=4.6.0->sentence-transformers) (0.0.46)\n",
      "Requirement already satisfied: pyyaml>=5.1 in /Users/kalyan/.pyenv/versions/3.8.7/lib/python3.8/site-packages (from transformers<5.0.0,>=4.6.0->sentence-transformers) (5.4.1)\n",
      "Requirement already satisfied: filelock in /Users/kalyan/.pyenv/versions/3.8.7/lib/python3.8/site-packages (from transformers<5.0.0,>=4.6.0->sentence-transformers) (3.0.12)\n",
      "Requirement already satisfied: packaging>=20.0 in /Users/kalyan/.local/lib/python3.8/site-packages (from transformers<5.0.0,>=4.6.0->sentence-transformers) (21.0)\n",
      "Requirement already satisfied: requests in /Users/kalyan/.local/lib/python3.8/site-packages (from transformers<5.0.0,>=4.6.0->sentence-transformers) (2.26.0)\n",
      "Requirement already satisfied: regex!=2019.12.17 in /Users/kalyan/.pyenv/versions/3.8.7/lib/python3.8/site-packages (from transformers<5.0.0,>=4.6.0->sentence-transformers) (2021.10.8)\n",
      "Requirement already satisfied: pyparsing>=2.0.2 in /Users/kalyan/.local/lib/python3.8/site-packages (from packaging>=20.0->transformers<5.0.0,>=4.6.0->sentence-transformers) (2.4.7)\n",
      "Requirement already satisfied: notebook>=4.4.1 in /Users/kalyan/.pyenv/versions/3.8.7/lib/python3.8/site-packages (from widgetsnbextension~=3.5.0->ipywidgets) (6.4.4)\n",
      "Requirement already satisfied: argon2-cffi in /Users/kalyan/.pyenv/versions/3.8.7/lib/python3.8/site-packages (from notebook>=4.4.1->widgetsnbextension~=3.5.0->ipywidgets) (21.1.0)\n",
      "Requirement already satisfied: Send2Trash>=1.5.0 in /Users/kalyan/.pyenv/versions/3.8.7/lib/python3.8/site-packages (from notebook>=4.4.1->widgetsnbextension~=3.5.0->ipywidgets) (1.8.0)\n",
      "Requirement already satisfied: jinja2 in /Users/kalyan/.local/lib/python3.8/site-packages (from notebook>=4.4.1->widgetsnbextension~=3.5.0->ipywidgets) (3.0.1)\n",
      "Requirement already satisfied: nbconvert in /Users/kalyan/.pyenv/versions/3.8.7/lib/python3.8/site-packages (from notebook>=4.4.1->widgetsnbextension~=3.5.0->ipywidgets) (6.2.0)\n",
      "Requirement already satisfied: prometheus-client in /Users/kalyan/.pyenv/versions/3.8.7/lib/python3.8/site-packages (from notebook>=4.4.1->widgetsnbextension~=3.5.0->ipywidgets) (0.11.0)\n",
      "Requirement already satisfied: terminado>=0.8.3 in /Users/kalyan/.pyenv/versions/3.8.7/lib/python3.8/site-packages (from notebook>=4.4.1->widgetsnbextension~=3.5.0->ipywidgets) (0.12.1)\n",
      "Requirement already satisfied: cffi>=1.0.0 in /Users/kalyan/.pyenv/versions/3.8.7/lib/python3.8/site-packages (from argon2-cffi->notebook>=4.4.1->widgetsnbextension~=3.5.0->ipywidgets) (1.14.6)\n",
      "Requirement already satisfied: pycparser in /Users/kalyan/.pyenv/versions/3.8.7/lib/python3.8/site-packages (from cffi>=1.0.0->argon2-cffi->notebook>=4.4.1->widgetsnbextension~=3.5.0->ipywidgets) (2.20)\n",
      "Requirement already satisfied: MarkupSafe>=2.0 in /Users/kalyan/.local/lib/python3.8/site-packages (from jinja2->notebook>=4.4.1->widgetsnbextension~=3.5.0->ipywidgets) (2.0.1)\n",
      "Requirement already satisfied: mistune<2,>=0.8.1 in /Users/kalyan/.local/lib/python3.8/site-packages (from nbconvert->notebook>=4.4.1->widgetsnbextension~=3.5.0->ipywidgets) (0.8.4)\n",
      "Requirement already satisfied: nbclient<0.6.0,>=0.5.0 in /Users/kalyan/.pyenv/versions/3.8.7/lib/python3.8/site-packages (from nbconvert->notebook>=4.4.1->widgetsnbextension~=3.5.0->ipywidgets) (0.5.4)\n",
      "Requirement already satisfied: bleach in /Users/kalyan/.pyenv/versions/3.8.7/lib/python3.8/site-packages (from nbconvert->notebook>=4.4.1->widgetsnbextension~=3.5.0->ipywidgets) (4.1.0)\n",
      "Requirement already satisfied: jupyterlab-pygments in /Users/kalyan/.pyenv/versions/3.8.7/lib/python3.8/site-packages (from nbconvert->notebook>=4.4.1->widgetsnbextension~=3.5.0->ipywidgets) (0.1.2)\n",
      "Requirement already satisfied: pandocfilters>=1.4.1 in /Users/kalyan/.pyenv/versions/3.8.7/lib/python3.8/site-packages (from nbconvert->notebook>=4.4.1->widgetsnbextension~=3.5.0->ipywidgets) (1.5.0)\n",
      "Requirement already satisfied: testpath in /Users/kalyan/.pyenv/versions/3.8.7/lib/python3.8/site-packages (from nbconvert->notebook>=4.4.1->widgetsnbextension~=3.5.0->ipywidgets) (0.5.0)\n",
      "Requirement already satisfied: defusedxml in /Users/kalyan/.pyenv/versions/3.8.7/lib/python3.8/site-packages (from nbconvert->notebook>=4.4.1->widgetsnbextension~=3.5.0->ipywidgets) (0.7.1)\n",
      "Requirement already satisfied: webencodings in /Users/kalyan/.pyenv/versions/3.8.7/lib/python3.8/site-packages (from bleach->nbconvert->notebook>=4.4.1->widgetsnbextension~=3.5.0->ipywidgets) (0.5.1)\n",
      "Requirement already satisfied: joblib in /Users/kalyan/.pyenv/versions/3.8.7/lib/python3.8/site-packages (from nltk->sentence-transformers) (1.1.0)\n",
      "Requirement already satisfied: click in /Users/kalyan/.pyenv/versions/3.8.7/lib/python3.8/site-packages (from nltk->sentence-transformers) (8.0.3)\n",
      "Requirement already satisfied: idna<4,>=2.5 in /Users/kalyan/.local/lib/python3.8/site-packages (from requests->transformers<5.0.0,>=4.6.0->sentence-transformers) (3.2)\n",
      "Requirement already satisfied: urllib3<1.27,>=1.21.1 in /Users/kalyan/.local/lib/python3.8/site-packages (from requests->transformers<5.0.0,>=4.6.0->sentence-transformers) (1.26.6)\n",
      "Requirement already satisfied: certifi>=2017.4.17 in /Users/kalyan/.pyenv/versions/3.8.7/lib/python3.8/site-packages (from requests->transformers<5.0.0,>=4.6.0->sentence-transformers) (2021.5.30)\n",
      "Requirement already satisfied: charset-normalizer~=2.0.0 in /Users/kalyan/.local/lib/python3.8/site-packages (from requests->transformers<5.0.0,>=4.6.0->sentence-transformers) (2.0.6)\n",
      "Requirement already satisfied: threadpoolctl>=2.0.0 in /Users/kalyan/.pyenv/versions/3.8.7/lib/python3.8/site-packages (from scikit-learn->sentence-transformers) (3.0.0)\n",
      "Requirement already satisfied: pillow>=5.3.0 in /Users/kalyan/.pyenv/versions/3.8.7/lib/python3.8/site-packages (from torchvision->sentence-transformers) (8.3.2)\n",
      "\u001b[33mWARNING: You are using pip version 21.2.4; however, version 21.3 is available.\n",
      "You should consider upgrading via the '/Users/kalyan/.pyenv/versions/3.8.7/bin/python -m pip install --upgrade pip' command.\u001b[0m\n"
     ]
    }
   ],
   "source": [
    "!pip install faiss-cpu torch sentence-transformers ipywidgets"
   ]
  },
  {
   "cell_type": "code",
   "execution_count": 1,
   "id": "24c6c7bd-2d5f-4c58-9a77-ff5d5d15631e",
   "metadata": {},
   "outputs": [],
   "source": [
    "import pandas as pd\n",
    "import faiss\n",
    "import torch\n",
    "import gzip\n",
    "import pickle\n",
    "from sentence_transformers import SentenceTransformer\n",
    "import numpy as np\n",
    "from tqdm.auto import tqdm\n",
    "from IPython.display import display, Markdown\n",
    "\n",
    "import time\n",
    "\n",
    "pd.set_option('display.max_rows', 500)\n",
    "pd.set_option('display.max_columns', None)\n",
    "pd.set_option('display.max_colwidth', None)\n",
    "pd.set_option('display.width', 1000)"
   ]
  },
  {
   "cell_type": "markdown",
   "id": "44f0b5df-acfa-42f4-9176-5051ab1b17b4",
   "metadata": {},
   "source": [
    "## 1. Import data and load models"
   ]
  },
  {
   "cell_type": "code",
   "execution_count": 2,
   "id": "3187d6e6-74fb-4f2e-841c-312211206f33",
   "metadata": {},
   "outputs": [],
   "source": [
    "def load_embeddings(filename):\n",
    "    \"\"\"Load compressed embeddings\n",
    "    \"\"\"\n",
    "    \n",
    "    with gzip.open(filename, 'rb') as emb_f:\n",
    "        embeddings = pickle.load(emb_f)\n",
    "    file = gzip.GzipFile(filename, 'rb')\n",
    "    data = file.read()\n",
    "    obj = pickle.loads(data)\n",
    "    file.close()\n",
    "    return obj\n"
   ]
  },
  {
   "cell_type": "code",
   "execution_count": 3,
   "id": "e72449c1-4851-40fa-9859-c54b2487d695",
   "metadata": {},
   "outputs": [
    {
     "name": "stdout",
     "output_type": "stream",
     "text": [
      "msmarco-distilbert-dot-v5: vectors torch.Size([1666918, 768]); mapping (1666918, 4)\n"
     ]
    }
   ],
   "source": [
    "datasets = [\n",
    "    {\n",
    "        \"model_name\": \"multi-qa-MiniLM-L6-cos-v1\",\n",
    "        \"vectors_path\": \"../../s3-buckets/cpr-datasets/policy_text_embeddings_multi-qa-MiniLM-L6-cos-v1.pkl.gz\",\n",
    "        \"mappings_path\": \"../../s3-buckets/cpr-datasets/policy_text_embeddings_mapping_multi-qa-MiniLM-L6-cos-v1.pkl.gz\",\n",
    "    },\n",
    "    {\n",
    "        \"model_name\": \"msmarco-distilbert-dot-v5\",\n",
    "        \"vectors_path\": \"../../s3-buckets/cpr-datasets/policy_text_embeddings_msmarco-distilbert-dot-v5.pkl.gz\",\n",
    "        \"mappings_path\": \"../../s3-buckets/cpr-datasets/policy_text_embeddings_mapping_msmarco-distilbert-dot-v5.pkl.gz\",\n",
    "    },\n",
    "]\n",
    "\n",
    "# because of RAM limitations we can only run one dataset at a time\n",
    "dset = datasets[1]\n",
    "\n",
    "dset[\"mapping\"] = pd.read_pickle(dset['mappings_path'], compression=\"gzip\")\n",
    "dset[\"vectors\"] = load_embeddings(dset['vectors_path'])\n",
    "\n",
    "dset[\"model\"] = SentenceTransformer(dset[\"model_name\"])\n",
    "\n",
    "print(f\"{dset['model_name']}: vectors {dset['vectors'].shape}; mapping {dset['mapping'].shape}\")"
   ]
  },
  {
   "cell_type": "markdown",
   "id": "0d76d354-4b0f-44a3-b357-cde50da547a5",
   "metadata": {},
   "source": [
    "### 1a. Process data"
   ]
  },
  {
   "cell_type": "code",
   "execution_count": 4,
   "id": "f7b65829-3ff8-4dec-b9f6-7baf62166c1f",
   "metadata": {},
   "outputs": [],
   "source": [
    "# Remove short phrases\n",
    "min_no_words = 4\n",
    "\n",
    "dset['mapping']['text_no_words'] = dset['mapping']['text'].apply(lambda i: len(i.split(\" \")))\n",
    "dset['mapping'] = dset['mapping'][dset['mapping']['text_no_words'] >= min_no_words]\n",
    "\n",
    "dset['vectors'] = dset['vectors'][dset['mapping'].index, :]"
   ]
  },
  {
   "cell_type": "markdown",
   "id": "dc800afb-df33-425e-80c1-81ff47e1f505",
   "metadata": {},
   "source": [
    "## 2. Create faiss indices"
   ]
  },
  {
   "cell_type": "code",
   "execution_count": 5,
   "id": "63b30698-59d5-49b4-8e33-d3364d8bf8cd",
   "metadata": {},
   "outputs": [
    {
     "name": "stdout",
     "output_type": "stream",
     "text": [
      "msmarco-distilbert-dot-v5 created\n"
     ]
    }
   ],
   "source": [
    "if \"-cos-\" in dset[\"model_name\"]:\n",
    "    dset[\"vectors\"] = torch.nn.functional.normalize(\n",
    "            dset[\"vectors\"], p=2, dim=1\n",
    "        )\n",
    "\n",
    "dset['faiss'] = faiss.IndexFlatIP(dset['vectors'].shape[1])\n",
    "dset['faiss'].add(dset['vectors'].numpy())\n",
    "\n",
    "print(f\"{dset['model_name']} created\")\n",
    "        "
   ]
  },
  {
   "cell_type": "code",
   "execution_count": 6,
   "id": "f532f341-49b7-4017-b640-8f5e3408d013",
   "metadata": {},
   "outputs": [],
   "source": [
    "def query_index(query: str, dset: dict, n_res: int = 20):\n",
    "    start = time.time()\n",
    "    query_emb = dset['model'].encode([query])\n",
    "    if \"-cos-\" in dset[\"model_name\"]:\n",
    "        query_emb = query_emb/np.linalg.norm(query_emb, ord=2, axis=1, keepdims=True)\n",
    "    \n",
    "    distances, idxs = dset['faiss'].search(query_emb, n_res)\n",
    "    \n",
    "    results = []\n",
    "    for i in range(len(idxs[0])):\n",
    "        row = dset['mapping'].iloc[idxs[0][i]].to_dict()\n",
    "        row.update(\n",
    "            {\"similarity\": distances[0][i]}\n",
    "        )\n",
    "        \n",
    "        results.append(row)\n",
    "    end = time.time()\n",
    "    print(f\"took {round(end-start, 1)}s\")\n",
    "    \n",
    "    return pd.DataFrame(results)"
   ]
  },
  {
   "cell_type": "markdown",
   "id": "f9b7e257-4df5-41d3-9545-d9fcc58d4fb1",
   "metadata": {},
   "source": [
    "### 3.1 Run a query across all available models"
   ]
  },
  {
   "cell_type": "code",
   "execution_count": 15,
   "id": "a712a816-dd7e-4792-8a01-ea19046940e6",
   "metadata": {},
   "outputs": [],
   "source": [
    "queries = [\n",
    "    \"transport levies in europe\",\n",
    "    \"renewable energy\",\n",
    "    \"deforestation in Brazil\",\n",
    "    \"carbon tax\",\n",
    "    \"net zero target\",\n",
    "    \"electric vehicle charging\",\n",
    "    \"incentives for innovation\",\n",
    "    \"research and development investment\",\n",
    "    \"nature-based solutions\",\n",
    "]"
   ]
  },
  {
   "cell_type": "code",
   "execution_count": 16,
   "id": "34a650b3-208f-4e20-8009-0419622d03cc",
   "metadata": {},
   "outputs": [
    {
     "data": {
      "text/markdown": [
       "### query: *transport levies in europe*"
      ],
      "text/plain": [
       "<IPython.core.display.Markdown object>"
      ]
     },
     "metadata": {},
     "output_type": "display_data"
    },
    {
     "name": "stdout",
     "output_type": "stream",
     "text": [
      "took 0.3s\n"
     ]
    },
    {
     "data": {
      "text/markdown": [
       "### query: *renewable energy*"
      ],
      "text/plain": [
       "<IPython.core.display.Markdown object>"
      ]
     },
     "metadata": {},
     "output_type": "display_data"
    },
    {
     "name": "stdout",
     "output_type": "stream",
     "text": [
      "took 0.1s\n"
     ]
    },
    {
     "data": {
      "text/markdown": [
       "### query: *deforestation in Brazil*"
      ],
      "text/plain": [
       "<IPython.core.display.Markdown object>"
      ]
     },
     "metadata": {},
     "output_type": "display_data"
    },
    {
     "name": "stdout",
     "output_type": "stream",
     "text": [
      "took 0.1s\n"
     ]
    },
    {
     "data": {
      "text/markdown": [
       "### query: *carbon tax*"
      ],
      "text/plain": [
       "<IPython.core.display.Markdown object>"
      ]
     },
     "metadata": {},
     "output_type": "display_data"
    },
    {
     "name": "stdout",
     "output_type": "stream",
     "text": [
      "took 0.1s\n"
     ]
    },
    {
     "data": {
      "text/markdown": [
       "### query: *net zero target*"
      ],
      "text/plain": [
       "<IPython.core.display.Markdown object>"
      ]
     },
     "metadata": {},
     "output_type": "display_data"
    },
    {
     "name": "stdout",
     "output_type": "stream",
     "text": [
      "took 0.1s\n"
     ]
    },
    {
     "data": {
      "text/markdown": [
       "### query: *electric vehicle charging*"
      ],
      "text/plain": [
       "<IPython.core.display.Markdown object>"
      ]
     },
     "metadata": {},
     "output_type": "display_data"
    },
    {
     "name": "stdout",
     "output_type": "stream",
     "text": [
      "took 0.2s\n"
     ]
    },
    {
     "data": {
      "text/markdown": [
       "### query: *incentives for innovation*"
      ],
      "text/plain": [
       "<IPython.core.display.Markdown object>"
      ]
     },
     "metadata": {},
     "output_type": "display_data"
    },
    {
     "name": "stdout",
     "output_type": "stream",
     "text": [
      "took 0.1s\n"
     ]
    },
    {
     "data": {
      "text/markdown": [
       "### query: *research and development investment*"
      ],
      "text/plain": [
       "<IPython.core.display.Markdown object>"
      ]
     },
     "metadata": {},
     "output_type": "display_data"
    },
    {
     "name": "stdout",
     "output_type": "stream",
     "text": [
      "took 0.1s\n"
     ]
    },
    {
     "data": {
      "text/markdown": [
       "### query: *nature-based solutions*"
      ],
      "text/plain": [
       "<IPython.core.display.Markdown object>"
      ]
     },
     "metadata": {},
     "output_type": "display_data"
    },
    {
     "name": "stdout",
     "output_type": "stream",
     "text": [
      "took 0.1s\n"
     ]
    }
   ],
   "source": [
    "N = 30\n",
    "\n",
    "search_results = []\n",
    "\n",
    "for query in queries:\n",
    "    display(Markdown(f\"### query: *{query}*\"))\n",
    "\n",
    "    res = query_index(\n",
    "        query,\n",
    "        dset = dset,\n",
    "        n_res = N,\n",
    "    )\n",
    "\n",
    "    res['query'] = query\n",
    "    \n",
    "    search_results.append(res)\n"
   ]
  },
  {
   "cell_type": "code",
   "execution_count": 17,
   "id": "251df067-47e2-47de-af7e-1e459d2a1658",
   "metadata": {},
   "outputs": [],
   "source": [
    "pd.concat(search_results)[['query', 'text', 'text_id', 'similarity', 'policy_id', 'page_id',]].to_csv(f\"results_{dset['model_name']}.csv\")"
   ]
  },
  {
   "cell_type": "markdown",
   "id": "10561819-32cb-47e3-b3bf-c33a7794f499",
   "metadata": {},
   "source": [
    "## Appendix 1: measuring query time\n",
    "This can be run without running the rest of the notebook, except for the imports."
   ]
  },
  {
   "cell_type": "code",
   "execution_count": 27,
   "id": "a067f2d6-0c93-481d-be43-20367418ccf9",
   "metadata": {},
   "outputs": [],
   "source": [
    "query_length_range = (1, 6) # inclusive\n",
    "no_samples = 500\n",
    "\n",
    "model_names = [d['model_name'] for d in datasets]\n",
    "mapping_data = datasets[0]['mapping']\n",
    "text_data = mapping_data.loc[\n",
    "    (mapping_data['text_no_words'] >= query_length_range[0]) & (mapping_data['text_no_words'] <= query_length_range[1]),\n",
    "    'text'\n",
    "].sample(no_samples, random_state=42).tolist()"
   ]
  },
  {
   "cell_type": "code",
   "execution_count": 30,
   "id": "d820a004-e779-487f-bda9-6e9570f7aa66",
   "metadata": {},
   "outputs": [
    {
     "name": "stdout",
     "output_type": "stream",
     "text": [
      "multi-qa-MiniLM-L6-cos-v1 completed 500 encodings in 8.07s (0.0161s/encoding)\n",
      "msmarco-distilbert-dot-v5 completed 500 encodings in 25.84s (0.0517s/encoding)\n"
     ]
    }
   ],
   "source": [
    "def measure_time(model_name, text_samples):\n",
    "    encoder = SentenceTransformer(model_name)\n",
    "    start = time.time()\n",
    "    for t in text_samples:\n",
    "        _ = encoder.encode(t)\n",
    "    end = time.time()\n",
    "    \n",
    "    second_per_enc = round((end-start)/len(text_samples), 4)\n",
    "    time_taken = round(end-start, 2)\n",
    "    \n",
    "    print(f\"{model_name} completed {len(text_samples)} encodings in {time_taken}s ({second_per_enc}s/encoding)\")\n",
    "\n",
    "\n",
    "for model_name in model_names:\n",
    "    measure_time(model_name, text_data)"
   ]
  },
  {
   "cell_type": "markdown",
   "id": "b0a8d404-c952-4cd0-8a34-ad1bf7bebb12",
   "metadata": {},
   "source": [
    "## Appendix 2: reducing dimension of embeddings"
   ]
  },
  {
   "cell_type": "code",
   "execution_count": 9,
   "id": "b6c912a1-d307-4096-b747-0cf65fadf9b5",
   "metadata": {},
   "outputs": [],
   "source": [
    "from sklearn.decomposition import PCA"
   ]
  },
  {
   "cell_type": "code",
   "execution_count": 8,
   "id": "b6f4c65f-e39b-452a-aac8-164e85e94c82",
   "metadata": {},
   "outputs": [
    {
     "data": {
      "text/plain": [
       "torch.Size([1556223, 768])"
      ]
     },
     "execution_count": 8,
     "metadata": {},
     "output_type": "execute_result"
    }
   ],
   "source": [
    "best_model = \"msmarco-distilbert-dot-v5\"\n",
    "assert dset['model_name'] == best_model\n",
    "\n",
    "dset['vectors'].shape"
   ]
  },
  {
   "cell_type": "code",
   "execution_count": 12,
   "id": "c4a1bf7a-52d3-4ee3-aa57-ae6f653387e1",
   "metadata": {
    "collapsed": true,
    "jupyter": {
     "outputs_hidden": true
    },
    "tags": []
   },
   "outputs": [
    {
     "data": {
      "application/vnd.jupyter.widget-view+json": {
       "model_id": "5f42811a59ab4cf890128244da125104",
       "version_major": 2,
       "version_minor": 0
      },
      "text/plain": [
       "  0%|          | 0/4 [00:00<?, ?it/s]"
      ]
     },
     "metadata": {},
     "output_type": "display_data"
    },
    {
     "ename": "KeyboardInterrupt",
     "evalue": "",
     "output_type": "error",
     "traceback": [
      "\u001b[0;31m---------------------------------------------------------------------------\u001b[0m",
      "\u001b[0;31mKeyboardInterrupt\u001b[0m                         Traceback (most recent call last)",
      "\u001b[0;32m/var/folders/nv/ml84yvj11ns_bxrq3c40q2xc0000gn/T/ipykernel_77956/3588633292.py\u001b[0m in \u001b[0;36m<module>\u001b[0;34m\u001b[0m\n\u001b[1;32m      6\u001b[0m \u001b[0;34m\u001b[0m\u001b[0m\n\u001b[1;32m      7\u001b[0m \u001b[0;32mfor\u001b[0m \u001b[0mt\u001b[0m \u001b[0;32min\u001b[0m \u001b[0mtqdm\u001b[0m\u001b[0;34m(\u001b[0m\u001b[0mtarget_dims\u001b[0m\u001b[0;34m)\u001b[0m\u001b[0;34m:\u001b[0m\u001b[0;34m\u001b[0m\u001b[0;34m\u001b[0m\u001b[0m\n\u001b[0;32m----> 8\u001b[0;31m     pcas[t] = PCA(\n\u001b[0m\u001b[1;32m      9\u001b[0m         \u001b[0mn_components\u001b[0m\u001b[0;34m=\u001b[0m\u001b[0mt\u001b[0m\u001b[0;34m,\u001b[0m\u001b[0;34m\u001b[0m\u001b[0;34m\u001b[0m\u001b[0m\n\u001b[1;32m     10\u001b[0m         \u001b[0mrandom_state\u001b[0m\u001b[0;34m=\u001b[0m\u001b[0mrandom_state\u001b[0m\u001b[0;34m\u001b[0m\u001b[0;34m\u001b[0m\u001b[0m\n",
      "\u001b[0;32m~/.pyenv/versions/3.8.7/lib/python3.8/site-packages/sklearn/decomposition/_pca.py\u001b[0m in \u001b[0;36mfit_transform\u001b[0;34m(self, X, y)\u001b[0m\n\u001b[1;32m    405\u001b[0m         \u001b[0mC\u001b[0m\u001b[0;34m-\u001b[0m\u001b[0mordered\u001b[0m \u001b[0marray\u001b[0m\u001b[0;34m,\u001b[0m \u001b[0muse\u001b[0m \u001b[0;34m'np.ascontiguousarray'\u001b[0m\u001b[0;34m.\u001b[0m\u001b[0;34m\u001b[0m\u001b[0;34m\u001b[0m\u001b[0m\n\u001b[1;32m    406\u001b[0m         \"\"\"\n\u001b[0;32m--> 407\u001b[0;31m         \u001b[0mU\u001b[0m\u001b[0;34m,\u001b[0m \u001b[0mS\u001b[0m\u001b[0;34m,\u001b[0m \u001b[0mVt\u001b[0m \u001b[0;34m=\u001b[0m \u001b[0mself\u001b[0m\u001b[0;34m.\u001b[0m\u001b[0m_fit\u001b[0m\u001b[0;34m(\u001b[0m\u001b[0mX\u001b[0m\u001b[0;34m)\u001b[0m\u001b[0;34m\u001b[0m\u001b[0;34m\u001b[0m\u001b[0m\n\u001b[0m\u001b[1;32m    408\u001b[0m         \u001b[0mU\u001b[0m \u001b[0;34m=\u001b[0m \u001b[0mU\u001b[0m\u001b[0;34m[\u001b[0m\u001b[0;34m:\u001b[0m\u001b[0;34m,\u001b[0m \u001b[0;34m:\u001b[0m \u001b[0mself\u001b[0m\u001b[0;34m.\u001b[0m\u001b[0mn_components_\u001b[0m\u001b[0;34m]\u001b[0m\u001b[0;34m\u001b[0m\u001b[0;34m\u001b[0m\u001b[0m\n\u001b[1;32m    409\u001b[0m \u001b[0;34m\u001b[0m\u001b[0m\n",
      "\u001b[0;32m~/.pyenv/versions/3.8.7/lib/python3.8/site-packages/sklearn/decomposition/_pca.py\u001b[0m in \u001b[0;36m_fit\u001b[0;34m(self, X)\u001b[0m\n\u001b[1;32m    457\u001b[0m             \u001b[0;32mreturn\u001b[0m \u001b[0mself\u001b[0m\u001b[0;34m.\u001b[0m\u001b[0m_fit_full\u001b[0m\u001b[0;34m(\u001b[0m\u001b[0mX\u001b[0m\u001b[0;34m,\u001b[0m \u001b[0mn_components\u001b[0m\u001b[0;34m)\u001b[0m\u001b[0;34m\u001b[0m\u001b[0;34m\u001b[0m\u001b[0m\n\u001b[1;32m    458\u001b[0m         \u001b[0;32melif\u001b[0m \u001b[0mself\u001b[0m\u001b[0;34m.\u001b[0m\u001b[0m_fit_svd_solver\u001b[0m \u001b[0;32min\u001b[0m \u001b[0;34m[\u001b[0m\u001b[0;34m\"arpack\"\u001b[0m\u001b[0;34m,\u001b[0m \u001b[0;34m\"randomized\"\u001b[0m\u001b[0;34m]\u001b[0m\u001b[0;34m:\u001b[0m\u001b[0;34m\u001b[0m\u001b[0;34m\u001b[0m\u001b[0m\n\u001b[0;32m--> 459\u001b[0;31m             \u001b[0;32mreturn\u001b[0m \u001b[0mself\u001b[0m\u001b[0;34m.\u001b[0m\u001b[0m_fit_truncated\u001b[0m\u001b[0;34m(\u001b[0m\u001b[0mX\u001b[0m\u001b[0;34m,\u001b[0m \u001b[0mn_components\u001b[0m\u001b[0;34m,\u001b[0m \u001b[0mself\u001b[0m\u001b[0;34m.\u001b[0m\u001b[0m_fit_svd_solver\u001b[0m\u001b[0;34m)\u001b[0m\u001b[0;34m\u001b[0m\u001b[0;34m\u001b[0m\u001b[0m\n\u001b[0m\u001b[1;32m    460\u001b[0m         \u001b[0;32melse\u001b[0m\u001b[0;34m:\u001b[0m\u001b[0;34m\u001b[0m\u001b[0;34m\u001b[0m\u001b[0m\n\u001b[1;32m    461\u001b[0m             raise ValueError(\n",
      "\u001b[0;32m~/.pyenv/versions/3.8.7/lib/python3.8/site-packages/sklearn/decomposition/_pca.py\u001b[0m in \u001b[0;36m_fit_truncated\u001b[0;34m(self, X, n_components, svd_solver)\u001b[0m\n\u001b[1;32m    578\u001b[0m         \u001b[0;32melif\u001b[0m \u001b[0msvd_solver\u001b[0m \u001b[0;34m==\u001b[0m \u001b[0;34m\"randomized\"\u001b[0m\u001b[0;34m:\u001b[0m\u001b[0;34m\u001b[0m\u001b[0;34m\u001b[0m\u001b[0m\n\u001b[1;32m    579\u001b[0m             \u001b[0;31m# sign flipping is done inside\u001b[0m\u001b[0;34m\u001b[0m\u001b[0;34m\u001b[0m\u001b[0;34m\u001b[0m\u001b[0m\n\u001b[0;32m--> 580\u001b[0;31m             U, S, Vt = randomized_svd(\n\u001b[0m\u001b[1;32m    581\u001b[0m                 \u001b[0mX\u001b[0m\u001b[0;34m,\u001b[0m\u001b[0;34m\u001b[0m\u001b[0;34m\u001b[0m\u001b[0m\n\u001b[1;32m    582\u001b[0m                 \u001b[0mn_components\u001b[0m\u001b[0;34m=\u001b[0m\u001b[0mn_components\u001b[0m\u001b[0;34m,\u001b[0m\u001b[0;34m\u001b[0m\u001b[0;34m\u001b[0m\u001b[0m\n",
      "\u001b[0;32m~/.pyenv/versions/3.8.7/lib/python3.8/site-packages/sklearn/utils/extmath.py\u001b[0m in \u001b[0;36mrandomized_svd\u001b[0;34m(M, n_components, n_oversamples, n_iter, power_iteration_normalizer, transpose, flip_sign, random_state)\u001b[0m\n\u001b[1;32m    393\u001b[0m         \u001b[0mM\u001b[0m \u001b[0;34m=\u001b[0m \u001b[0mM\u001b[0m\u001b[0;34m.\u001b[0m\u001b[0mT\u001b[0m\u001b[0;34m\u001b[0m\u001b[0;34m\u001b[0m\u001b[0m\n\u001b[1;32m    394\u001b[0m \u001b[0;34m\u001b[0m\u001b[0m\n\u001b[0;32m--> 395\u001b[0;31m     Q = randomized_range_finder(\n\u001b[0m\u001b[1;32m    396\u001b[0m         \u001b[0mM\u001b[0m\u001b[0;34m,\u001b[0m\u001b[0;34m\u001b[0m\u001b[0;34m\u001b[0m\u001b[0m\n\u001b[1;32m    397\u001b[0m         \u001b[0msize\u001b[0m\u001b[0;34m=\u001b[0m\u001b[0mn_random\u001b[0m\u001b[0;34m,\u001b[0m\u001b[0;34m\u001b[0m\u001b[0;34m\u001b[0m\u001b[0m\n",
      "\u001b[0;32m~/.pyenv/versions/3.8.7/lib/python3.8/site-packages/sklearn/utils/extmath.py\u001b[0m in \u001b[0;36mrandomized_range_finder\u001b[0;34m(A, size, n_iter, power_iteration_normalizer, random_state)\u001b[0m\n\u001b[1;32m    235\u001b[0m             \u001b[0mQ\u001b[0m \u001b[0;34m=\u001b[0m \u001b[0msafe_sparse_dot\u001b[0m\u001b[0;34m(\u001b[0m\u001b[0mA\u001b[0m\u001b[0;34m.\u001b[0m\u001b[0mT\u001b[0m\u001b[0;34m,\u001b[0m \u001b[0mQ\u001b[0m\u001b[0;34m)\u001b[0m\u001b[0;34m\u001b[0m\u001b[0;34m\u001b[0m\u001b[0m\n\u001b[1;32m    236\u001b[0m         \u001b[0;32melif\u001b[0m \u001b[0mpower_iteration_normalizer\u001b[0m \u001b[0;34m==\u001b[0m \u001b[0;34m\"LU\"\u001b[0m\u001b[0;34m:\u001b[0m\u001b[0;34m\u001b[0m\u001b[0;34m\u001b[0m\u001b[0m\n\u001b[0;32m--> 237\u001b[0;31m             \u001b[0mQ\u001b[0m\u001b[0;34m,\u001b[0m \u001b[0m_\u001b[0m \u001b[0;34m=\u001b[0m \u001b[0mlinalg\u001b[0m\u001b[0;34m.\u001b[0m\u001b[0mlu\u001b[0m\u001b[0;34m(\u001b[0m\u001b[0msafe_sparse_dot\u001b[0m\u001b[0;34m(\u001b[0m\u001b[0mA\u001b[0m\u001b[0;34m,\u001b[0m \u001b[0mQ\u001b[0m\u001b[0;34m)\u001b[0m\u001b[0;34m,\u001b[0m \u001b[0mpermute_l\u001b[0m\u001b[0;34m=\u001b[0m\u001b[0;32mTrue\u001b[0m\u001b[0;34m)\u001b[0m\u001b[0;34m\u001b[0m\u001b[0;34m\u001b[0m\u001b[0m\n\u001b[0m\u001b[1;32m    238\u001b[0m             \u001b[0mQ\u001b[0m\u001b[0;34m,\u001b[0m \u001b[0m_\u001b[0m \u001b[0;34m=\u001b[0m \u001b[0mlinalg\u001b[0m\u001b[0;34m.\u001b[0m\u001b[0mlu\u001b[0m\u001b[0;34m(\u001b[0m\u001b[0msafe_sparse_dot\u001b[0m\u001b[0;34m(\u001b[0m\u001b[0mA\u001b[0m\u001b[0;34m.\u001b[0m\u001b[0mT\u001b[0m\u001b[0;34m,\u001b[0m \u001b[0mQ\u001b[0m\u001b[0;34m)\u001b[0m\u001b[0;34m,\u001b[0m \u001b[0mpermute_l\u001b[0m\u001b[0;34m=\u001b[0m\u001b[0;32mTrue\u001b[0m\u001b[0;34m)\u001b[0m\u001b[0;34m\u001b[0m\u001b[0;34m\u001b[0m\u001b[0m\n\u001b[1;32m    239\u001b[0m         \u001b[0;32melif\u001b[0m \u001b[0mpower_iteration_normalizer\u001b[0m \u001b[0;34m==\u001b[0m \u001b[0;34m\"QR\"\u001b[0m\u001b[0;34m:\u001b[0m\u001b[0;34m\u001b[0m\u001b[0;34m\u001b[0m\u001b[0m\n",
      "\u001b[0;32m~/.pyenv/versions/3.8.7/lib/python3.8/site-packages/sklearn/utils/extmath.py\u001b[0m in \u001b[0;36msafe_sparse_dot\u001b[0;34m(a, b, dense_output)\u001b[0m\n\u001b[1;32m    151\u001b[0m             \u001b[0mret\u001b[0m \u001b[0;34m=\u001b[0m \u001b[0mnp\u001b[0m\u001b[0;34m.\u001b[0m\u001b[0mdot\u001b[0m\u001b[0;34m(\u001b[0m\u001b[0ma\u001b[0m\u001b[0;34m,\u001b[0m \u001b[0mb\u001b[0m\u001b[0;34m)\u001b[0m\u001b[0;34m\u001b[0m\u001b[0;34m\u001b[0m\u001b[0m\n\u001b[1;32m    152\u001b[0m     \u001b[0;32melse\u001b[0m\u001b[0;34m:\u001b[0m\u001b[0;34m\u001b[0m\u001b[0;34m\u001b[0m\u001b[0m\n\u001b[0;32m--> 153\u001b[0;31m         \u001b[0mret\u001b[0m \u001b[0;34m=\u001b[0m \u001b[0ma\u001b[0m \u001b[0;34m@\u001b[0m \u001b[0mb\u001b[0m\u001b[0;34m\u001b[0m\u001b[0;34m\u001b[0m\u001b[0m\n\u001b[0m\u001b[1;32m    154\u001b[0m \u001b[0;34m\u001b[0m\u001b[0m\n\u001b[1;32m    155\u001b[0m     if (\n",
      "\u001b[0;31mKeyboardInterrupt\u001b[0m: "
     ]
    }
   ],
   "source": [
    "# create dim reductions\n",
    "random_state = 42\n",
    "target_dims = [384, 192, 96, 48]\n",
    "\n",
    "pcas = {}\n",
    "\n",
    "# sklearn\n",
    "# for t in tqdm(target_dims):\n",
    "#     pcas[t] = PCA(\n",
    "#         n_components=t,\n",
    "#         random_state=random_state\n",
    "#     ).fit_transform(dset['vectors'])\n",
    "\n",
    "# cuml - needs GPU\n",
    "from cuml.decomposition import PCA\n",
    "\n",
    "for t in tqdm(target_dims):\n",
    "    pca = PCA(n_components=t, random_state=random_state)\n",
    "    pcas[t] = pca.fit_transform(dset['vectors'])"
   ]
  }
 ],
 "metadata": {
  "kernelspec": {
   "display_name": "Python 3 (ipykernel)",
   "language": "python",
   "name": "python3"
  },
  "language_info": {
   "codemirror_mode": {
    "name": "ipython",
    "version": 3
   },
   "file_extension": ".py",
   "mimetype": "text/x-python",
   "name": "python",
   "nbconvert_exporter": "python",
   "pygments_lexer": "ipython3",
   "version": "3.8.7"
  }
 },
 "nbformat": 4,
 "nbformat_minor": 5
}
