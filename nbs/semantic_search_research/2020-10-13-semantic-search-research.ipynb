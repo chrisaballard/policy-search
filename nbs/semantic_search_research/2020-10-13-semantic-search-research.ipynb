{
 "cells": [
  {
   "cell_type": "code",
   "execution_count": 1,
   "id": "a8b41a46-0e1e-4e66-9056-4a5f930e2398",
   "metadata": {},
   "outputs": [
    {
     "name": "stdout",
     "output_type": "stream",
     "text": [
      "Requirement already satisfied: faiss-cpu in /Users/kalyan/Documents/CPR/policy-search/.venv/lib/python3.8/site-packages (1.7.1.post2)\n",
      "Requirement already satisfied: torch in /Users/kalyan/Documents/CPR/policy-search/.venv/lib/python3.8/site-packages (1.9.1)\n",
      "Requirement already satisfied: sentence-transformers in /Users/kalyan/Documents/CPR/policy-search/.venv/lib/python3.8/site-packages (2.0.0)\n",
      "Requirement already satisfied: ipywidgets in /Users/kalyan/Documents/CPR/policy-search/.venv/lib/python3.8/site-packages (7.6.5)\n",
      "Requirement already satisfied: typing-extensions in /Users/kalyan/Documents/CPR/policy-search/.venv/lib/python3.8/site-packages (from torch) (3.10.0.2)\n",
      "Requirement already satisfied: transformers<5.0.0,>=4.6.0 in /Users/kalyan/Documents/CPR/policy-search/.venv/lib/python3.8/site-packages (from sentence-transformers) (4.6.1)\n",
      "Requirement already satisfied: torchvision in /Users/kalyan/Documents/CPR/policy-search/.venv/lib/python3.8/site-packages (from sentence-transformers) (0.9.1)\n",
      "Requirement already satisfied: scipy in /Users/kalyan/Documents/CPR/policy-search/.venv/lib/python3.8/site-packages (from sentence-transformers) (1.6.1)\n",
      "Requirement already satisfied: scikit-learn in /Users/kalyan/Documents/CPR/policy-search/.venv/lib/python3.8/site-packages (from sentence-transformers) (0.24.2)\n",
      "Requirement already satisfied: nltk in /Users/kalyan/Documents/CPR/policy-search/.venv/lib/python3.8/site-packages (from sentence-transformers) (3.6.2)\n",
      "Requirement already satisfied: sentencepiece in /Users/kalyan/Documents/CPR/policy-search/.venv/lib/python3.8/site-packages (from sentence-transformers) (0.1.96)\n",
      "Requirement already satisfied: tqdm in /Users/kalyan/Documents/CPR/policy-search/.venv/lib/python3.8/site-packages (from sentence-transformers) (4.62.3)\n",
      "Requirement already satisfied: huggingface-hub in /Users/kalyan/Documents/CPR/policy-search/.venv/lib/python3.8/site-packages (from sentence-transformers) (0.0.8)\n",
      "Requirement already satisfied: numpy in /Users/kalyan/Documents/CPR/policy-search/.venv/lib/python3.8/site-packages (from sentence-transformers) (1.21.2)\n",
      "Requirement already satisfied: ipykernel>=4.5.1 in /Users/kalyan/Documents/CPR/policy-search/.venv/lib/python3.8/site-packages (from ipywidgets) (6.4.1)\n",
      "Requirement already satisfied: ipython-genutils~=0.2.0 in /Users/kalyan/Documents/CPR/policy-search/.venv/lib/python3.8/site-packages (from ipywidgets) (0.2.0)\n",
      "Requirement already satisfied: jupyterlab-widgets>=1.0.0 in /Users/kalyan/Documents/CPR/policy-search/.venv/lib/python3.8/site-packages (from ipywidgets) (1.0.2)\n",
      "Requirement already satisfied: nbformat>=4.2.0 in /Users/kalyan/Documents/CPR/policy-search/.venv/lib/python3.8/site-packages (from ipywidgets) (5.1.3)\n",
      "Requirement already satisfied: traitlets>=4.3.1 in /Users/kalyan/Documents/CPR/policy-search/.venv/lib/python3.8/site-packages (from ipywidgets) (5.1.0)\n",
      "Requirement already satisfied: ipython>=4.0.0 in /Users/kalyan/Documents/CPR/policy-search/.venv/lib/python3.8/site-packages (from ipywidgets) (7.28.0)\n",
      "Requirement already satisfied: widgetsnbextension~=3.5.0 in /Users/kalyan/Documents/CPR/policy-search/.venv/lib/python3.8/site-packages (from ipywidgets) (3.5.1)\n",
      "Requirement already satisfied: debugpy<2.0,>=1.0.0 in /Users/kalyan/Documents/CPR/policy-search/.venv/lib/python3.8/site-packages (from ipykernel>=4.5.1->ipywidgets) (1.5.1)\n",
      "Requirement already satisfied: matplotlib-inline<0.2.0,>=0.1.0 in /Users/kalyan/Documents/CPR/policy-search/.venv/lib/python3.8/site-packages (from ipykernel>=4.5.1->ipywidgets) (0.1.3)\n",
      "Requirement already satisfied: jupyter-client<8.0 in /Users/kalyan/Documents/CPR/policy-search/.venv/lib/python3.8/site-packages (from ipykernel>=4.5.1->ipywidgets) (7.0.6)\n",
      "Requirement already satisfied: appnope in /Users/kalyan/Documents/CPR/policy-search/.venv/lib/python3.8/site-packages (from ipykernel>=4.5.1->ipywidgets) (0.1.2)\n",
      "Requirement already satisfied: tornado<7.0,>=4.2 in /Users/kalyan/Documents/CPR/policy-search/.venv/lib/python3.8/site-packages (from ipykernel>=4.5.1->ipywidgets) (6.1)\n",
      "Requirement already satisfied: jedi>=0.16 in /Users/kalyan/Documents/CPR/policy-search/.venv/lib/python3.8/site-packages (from ipython>=4.0.0->ipywidgets) (0.18.0)\n",
      "Requirement already satisfied: pexpect>4.3 in /Users/kalyan/Documents/CPR/policy-search/.venv/lib/python3.8/site-packages (from ipython>=4.0.0->ipywidgets) (4.8.0)\n",
      "Requirement already satisfied: prompt-toolkit!=3.0.0,!=3.0.1,<3.1.0,>=2.0.0 in /Users/kalyan/Documents/CPR/policy-search/.venv/lib/python3.8/site-packages (from ipython>=4.0.0->ipywidgets) (3.0.20)\n",
      "Requirement already satisfied: decorator in /Users/kalyan/Documents/CPR/policy-search/.venv/lib/python3.8/site-packages (from ipython>=4.0.0->ipywidgets) (5.1.0)\n",
      "Requirement already satisfied: pickleshare in /Users/kalyan/Documents/CPR/policy-search/.venv/lib/python3.8/site-packages (from ipython>=4.0.0->ipywidgets) (0.7.5)\n",
      "Requirement already satisfied: pygments in /Users/kalyan/Documents/CPR/policy-search/.venv/lib/python3.8/site-packages (from ipython>=4.0.0->ipywidgets) (2.10.0)\n",
      "Requirement already satisfied: setuptools>=18.5 in /Users/kalyan/Documents/CPR/policy-search/.venv/lib/python3.8/site-packages (from ipython>=4.0.0->ipywidgets) (57.4.0)\n",
      "Requirement already satisfied: backcall in /Users/kalyan/Documents/CPR/policy-search/.venv/lib/python3.8/site-packages (from ipython>=4.0.0->ipywidgets) (0.2.0)\n",
      "Requirement already satisfied: parso<0.9.0,>=0.8.0 in /Users/kalyan/Documents/CPR/policy-search/.venv/lib/python3.8/site-packages (from jedi>=0.16->ipython>=4.0.0->ipywidgets) (0.8.2)\n",
      "Requirement already satisfied: nest-asyncio>=1.5 in /Users/kalyan/Documents/CPR/policy-search/.venv/lib/python3.8/site-packages (from jupyter-client<8.0->ipykernel>=4.5.1->ipywidgets) (1.5.1)\n",
      "Requirement already satisfied: entrypoints in /Users/kalyan/Documents/CPR/policy-search/.venv/lib/python3.8/site-packages (from jupyter-client<8.0->ipykernel>=4.5.1->ipywidgets) (0.3)\n",
      "Requirement already satisfied: python-dateutil>=2.1 in /Users/kalyan/Documents/CPR/policy-search/.venv/lib/python3.8/site-packages (from jupyter-client<8.0->ipykernel>=4.5.1->ipywidgets) (2.8.2)\n",
      "Requirement already satisfied: pyzmq>=13 in /Users/kalyan/Documents/CPR/policy-search/.venv/lib/python3.8/site-packages (from jupyter-client<8.0->ipykernel>=4.5.1->ipywidgets) (22.3.0)\n",
      "Requirement already satisfied: jupyter-core>=4.6.0 in /Users/kalyan/Documents/CPR/policy-search/.venv/lib/python3.8/site-packages (from jupyter-client<8.0->ipykernel>=4.5.1->ipywidgets) (4.8.1)\n",
      "Requirement already satisfied: jsonschema!=2.5.0,>=2.4 in /Users/kalyan/Documents/CPR/policy-search/.venv/lib/python3.8/site-packages (from nbformat>=4.2.0->ipywidgets) (4.1.0)\n",
      "Requirement already satisfied: attrs>=17.4.0 in /Users/kalyan/Documents/CPR/policy-search/.venv/lib/python3.8/site-packages (from jsonschema!=2.5.0,>=2.4->nbformat>=4.2.0->ipywidgets) (21.2.0)\n",
      "Requirement already satisfied: pyrsistent!=0.17.0,!=0.17.1,!=0.17.2,>=0.14.0 in /Users/kalyan/Documents/CPR/policy-search/.venv/lib/python3.8/site-packages (from jsonschema!=2.5.0,>=2.4->nbformat>=4.2.0->ipywidgets) (0.18.0)\n",
      "Requirement already satisfied: ptyprocess>=0.5 in /Users/kalyan/Documents/CPR/policy-search/.venv/lib/python3.8/site-packages (from pexpect>4.3->ipython>=4.0.0->ipywidgets) (0.7.0)\n",
      "Requirement already satisfied: wcwidth in /Users/kalyan/Documents/CPR/policy-search/.venv/lib/python3.8/site-packages (from prompt-toolkit!=3.0.0,!=3.0.1,<3.1.0,>=2.0.0->ipython>=4.0.0->ipywidgets) (0.2.5)\n",
      "Requirement already satisfied: six>=1.5 in /Users/kalyan/Documents/CPR/policy-search/.venv/lib/python3.8/site-packages (from python-dateutil>=2.1->jupyter-client<8.0->ipykernel>=4.5.1->ipywidgets) (1.16.0)\n",
      "Requirement already satisfied: packaging in /Users/kalyan/Documents/CPR/policy-search/.venv/lib/python3.8/site-packages (from transformers<5.0.0,>=4.6.0->sentence-transformers) (21.0)\n",
      "Requirement already satisfied: regex!=2019.12.17 in /Users/kalyan/Documents/CPR/policy-search/.venv/lib/python3.8/site-packages (from transformers<5.0.0,>=4.6.0->sentence-transformers) (2021.8.28)\n",
      "Requirement already satisfied: requests in /Users/kalyan/Documents/CPR/policy-search/.venv/lib/python3.8/site-packages (from transformers<5.0.0,>=4.6.0->sentence-transformers) (2.26.0)\n",
      "Requirement already satisfied: sacremoses in /Users/kalyan/Documents/CPR/policy-search/.venv/lib/python3.8/site-packages (from transformers<5.0.0,>=4.6.0->sentence-transformers) (0.0.45)\n",
      "Requirement already satisfied: tokenizers<0.11,>=0.10.1 in /Users/kalyan/Documents/CPR/policy-search/.venv/lib/python3.8/site-packages (from transformers<5.0.0,>=4.6.0->sentence-transformers) (0.10.3)\n",
      "Requirement already satisfied: filelock in /Users/kalyan/Documents/CPR/policy-search/.venv/lib/python3.8/site-packages (from transformers<5.0.0,>=4.6.0->sentence-transformers) (3.3.1)\n",
      "Requirement already satisfied: notebook>=4.4.1 in /Users/kalyan/Documents/CPR/policy-search/.venv/lib/python3.8/site-packages (from widgetsnbextension~=3.5.0->ipywidgets) (6.4.4)\n",
      "Requirement already satisfied: terminado>=0.8.3 in /Users/kalyan/Documents/CPR/policy-search/.venv/lib/python3.8/site-packages (from notebook>=4.4.1->widgetsnbextension~=3.5.0->ipywidgets) (0.12.1)\n",
      "Requirement already satisfied: jinja2 in /Users/kalyan/Documents/CPR/policy-search/.venv/lib/python3.8/site-packages (from notebook>=4.4.1->widgetsnbextension~=3.5.0->ipywidgets) (3.0.2)\n",
      "Requirement already satisfied: argon2-cffi in /Users/kalyan/Documents/CPR/policy-search/.venv/lib/python3.8/site-packages (from notebook>=4.4.1->widgetsnbextension~=3.5.0->ipywidgets) (21.1.0)\n",
      "Requirement already satisfied: Send2Trash>=1.5.0 in /Users/kalyan/Documents/CPR/policy-search/.venv/lib/python3.8/site-packages (from notebook>=4.4.1->widgetsnbextension~=3.5.0->ipywidgets) (1.8.0)\n",
      "Requirement already satisfied: nbconvert in /Users/kalyan/Documents/CPR/policy-search/.venv/lib/python3.8/site-packages (from notebook>=4.4.1->widgetsnbextension~=3.5.0->ipywidgets) (6.2.0)\n",
      "Requirement already satisfied: prometheus-client in /Users/kalyan/Documents/CPR/policy-search/.venv/lib/python3.8/site-packages (from notebook>=4.4.1->widgetsnbextension~=3.5.0->ipywidgets) (0.11.0)\n",
      "Requirement already satisfied: cffi>=1.0.0 in /Users/kalyan/Documents/CPR/policy-search/.venv/lib/python3.8/site-packages (from argon2-cffi->notebook>=4.4.1->widgetsnbextension~=3.5.0->ipywidgets) (1.15.0)\n",
      "Requirement already satisfied: pycparser in /Users/kalyan/Documents/CPR/policy-search/.venv/lib/python3.8/site-packages (from cffi>=1.0.0->argon2-cffi->notebook>=4.4.1->widgetsnbextension~=3.5.0->ipywidgets) (2.20)\n",
      "Requirement already satisfied: MarkupSafe>=2.0 in /Users/kalyan/Documents/CPR/policy-search/.venv/lib/python3.8/site-packages (from jinja2->notebook>=4.4.1->widgetsnbextension~=3.5.0->ipywidgets) (2.0.1)\n",
      "Requirement already satisfied: jupyterlab-pygments in /Users/kalyan/Documents/CPR/policy-search/.venv/lib/python3.8/site-packages (from nbconvert->notebook>=4.4.1->widgetsnbextension~=3.5.0->ipywidgets) (0.1.2)\n",
      "Requirement already satisfied: testpath in /Users/kalyan/Documents/CPR/policy-search/.venv/lib/python3.8/site-packages (from nbconvert->notebook>=4.4.1->widgetsnbextension~=3.5.0->ipywidgets) (0.5.0)\n",
      "Requirement already satisfied: pandocfilters>=1.4.1 in /Users/kalyan/Documents/CPR/policy-search/.venv/lib/python3.8/site-packages (from nbconvert->notebook>=4.4.1->widgetsnbextension~=3.5.0->ipywidgets) (1.5.0)\n",
      "Requirement already satisfied: bleach in /Users/kalyan/Documents/CPR/policy-search/.venv/lib/python3.8/site-packages (from nbconvert->notebook>=4.4.1->widgetsnbextension~=3.5.0->ipywidgets) (4.1.0)\n",
      "Requirement already satisfied: mistune<2,>=0.8.1 in /Users/kalyan/Documents/CPR/policy-search/.venv/lib/python3.8/site-packages (from nbconvert->notebook>=4.4.1->widgetsnbextension~=3.5.0->ipywidgets) (0.8.4)\n",
      "Requirement already satisfied: nbclient<0.6.0,>=0.5.0 in /Users/kalyan/Documents/CPR/policy-search/.venv/lib/python3.8/site-packages (from nbconvert->notebook>=4.4.1->widgetsnbextension~=3.5.0->ipywidgets) (0.5.4)\n",
      "Requirement already satisfied: defusedxml in /Users/kalyan/Documents/CPR/policy-search/.venv/lib/python3.8/site-packages (from nbconvert->notebook>=4.4.1->widgetsnbextension~=3.5.0->ipywidgets) (0.7.1)\n",
      "Requirement already satisfied: webencodings in /Users/kalyan/Documents/CPR/policy-search/.venv/lib/python3.8/site-packages (from bleach->nbconvert->notebook>=4.4.1->widgetsnbextension~=3.5.0->ipywidgets) (0.5.1)\n",
      "Requirement already satisfied: click in /Users/kalyan/Documents/CPR/policy-search/.venv/lib/python3.8/site-packages (from nltk->sentence-transformers) (8.0.3)\n",
      "Requirement already satisfied: joblib in /Users/kalyan/Documents/CPR/policy-search/.venv/lib/python3.8/site-packages (from nltk->sentence-transformers) (1.0.1)\n",
      "Requirement already satisfied: pyparsing>=2.0.2 in /Users/kalyan/Documents/CPR/policy-search/.venv/lib/python3.8/site-packages (from packaging->transformers<5.0.0,>=4.6.0->sentence-transformers) (2.4.7)\n",
      "Requirement already satisfied: charset-normalizer~=2.0.0 in /Users/kalyan/Documents/CPR/policy-search/.venv/lib/python3.8/site-packages (from requests->transformers<5.0.0,>=4.6.0->sentence-transformers) (2.0.7)\n",
      "Requirement already satisfied: idna<4,>=2.5 in /Users/kalyan/Documents/CPR/policy-search/.venv/lib/python3.8/site-packages (from requests->transformers<5.0.0,>=4.6.0->sentence-transformers) (3.3)\n",
      "Requirement already satisfied: certifi>=2017.4.17 in /Users/kalyan/Documents/CPR/policy-search/.venv/lib/python3.8/site-packages (from requests->transformers<5.0.0,>=4.6.0->sentence-transformers) (2021.10.8)\n",
      "Requirement already satisfied: urllib3<1.27,>=1.21.1 in /Users/kalyan/Documents/CPR/policy-search/.venv/lib/python3.8/site-packages (from requests->transformers<5.0.0,>=4.6.0->sentence-transformers) (1.26.7)\n",
      "Requirement already satisfied: threadpoolctl>=2.0.0 in /Users/kalyan/Documents/CPR/policy-search/.venv/lib/python3.8/site-packages (from scikit-learn->sentence-transformers) (2.2.0)\n",
      "Collecting torch\n",
      "  Downloading torch-1.8.1-cp38-none-macosx_10_9_x86_64.whl (119.6 MB)\n",
      "\u001b[K     |████████████████████████████████| 119.6 MB 446 kB/s  eta 0:00:01\n",
      "\u001b[?25hRequirement already satisfied: pillow>=4.1.1 in /Users/kalyan/Documents/CPR/policy-search/.venv/lib/python3.8/site-packages (from torchvision->sentence-transformers) (8.3.2)\n",
      "Installing collected packages: torch\n",
      "  Attempting uninstall: torch\n",
      "    Found existing installation: torch 1.9.1\n",
      "    Uninstalling torch-1.9.1:\n",
      "      Successfully uninstalled torch-1.9.1\n",
      "\u001b[31mERROR: pip's dependency resolver does not currently take into account all the packages that are installed. This behaviour is the source of the following dependency conflicts.\n",
      "policy-search 0.1.0 requires torch<2.0.0,>=1.9.1, but you have torch 1.8.1 which is incompatible.\n",
      "farm-haystack 0.10.0 requires elasticsearch<=7.10,>=7.7, but you have elasticsearch 7.15.1 which is incompatible.\u001b[0m\n",
      "Successfully installed torch-1.8.1\n",
      "\u001b[33mWARNING: You are using pip version 21.2.4; however, version 21.3 is available.\n",
      "You should consider upgrading via the '/Users/kalyan/Documents/CPR/policy-search/.venv/bin/python -m pip install --upgrade pip' command.\u001b[0m\n"
     ]
    }
   ],
   "source": [
    "!pip install faiss-cpu torch sentence-transformers ipywidgets"
   ]
  },
  {
   "cell_type": "code",
   "execution_count": 2,
   "id": "24c6c7bd-2d5f-4c58-9a77-ff5d5d15631e",
   "metadata": {},
   "outputs": [],
   "source": [
    "import pandas as pd\n",
    "import faiss\n",
    "import torch\n",
    "import gzip\n",
    "import pickle\n",
    "from sentence_transformers import SentenceTransformer\n",
    "import numpy as np\n",
    "from tqdm.auto import tqdm\n",
    "from IPython.display import display, Markdown\n",
    "\n",
    "import time\n",
    "\n",
    "pd.set_option('display.max_rows', 500)\n",
    "pd.set_option('display.max_columns', None)\n",
    "pd.set_option('display.max_colwidth', None)\n",
    "pd.set_option('display.width', 1000)"
   ]
  },
  {
   "cell_type": "markdown",
   "id": "44f0b5df-acfa-42f4-9176-5051ab1b17b4",
   "metadata": {},
   "source": [
    "## 1. Import data and load models"
   ]
  },
  {
   "cell_type": "code",
   "execution_count": 3,
   "id": "3187d6e6-74fb-4f2e-841c-312211206f33",
   "metadata": {},
   "outputs": [],
   "source": [
    "def load_embeddings(filename):\n",
    "    \"\"\"Load compressed embeddings\n",
    "    \"\"\"\n",
    "    \n",
    "    with gzip.open(filename, 'rb') as emb_f:\n",
    "        embeddings = pickle.load(emb_f)\n",
    "    file = gzip.GzipFile(filename, 'rb')\n",
    "    data = file.read()\n",
    "    obj = pickle.loads(data)\n",
    "    file.close()\n",
    "    return obj\n"
   ]
  },
  {
   "cell_type": "code",
   "execution_count": 7,
   "id": "e72449c1-4851-40fa-9859-c54b2487d695",
   "metadata": {},
   "outputs": [
    {
     "name": "stdout",
     "output_type": "stream",
     "text": [
      "msmarco-distilbert-dot-v5: vectors torch.Size([1666918, 768]); mapping (1666918, 4)\n"
     ]
    }
   ],
   "source": [
    "datasets = [\n",
    "    {\n",
    "        \"model_name\": \"multi-qa-MiniLM-L6-cos-v1\",\n",
    "        \"vectors_path\": \"../../../s3-buckets/cpr-datasets/policy_text_embeddings_multi-qa-MiniLM-L6-cos-v1.pkl.gz\",\n",
    "        \"mappings_path\": \"../../../s3-buckets/cpr-datasets/policy_text_embeddings_mapping_multi-qa-MiniLM-L6-cos-v1.pkl.gz\",\n",
    "    },\n",
    "    {\n",
    "        \"model_name\": \"msmarco-distilbert-dot-v5\",\n",
    "        \"vectors_path\": \"../../../s3-buckets/cpr-datasets/policy_text_embeddings_msmarco-distilbert-dot-v5.pkl.gz\",\n",
    "        \"mappings_path\": \"../../../s3-buckets/cpr-datasets/policy_text_embeddings_mapping_msmarco-distilbert-dot-v5.pkl.gz\",\n",
    "    },\n",
    "]\n",
    "\n",
    "# because of RAM limitations we can only run one dataset at a time\n",
    "dset = datasets[1]\n",
    "\n",
    "dset[\"mapping\"] = pd.read_pickle(dset['mappings_path'], compression=\"gzip\")\n",
    "dset[\"vectors\"] = load_embeddings(dset['vectors_path'])\n",
    "\n",
    "dset[\"model\"] = SentenceTransformer(dset[\"model_name\"])\n",
    "\n",
    "print(f\"{dset['model_name']}: vectors {dset['vectors'].shape}; mapping {dset['mapping'].shape}\")"
   ]
  },
  {
   "cell_type": "markdown",
   "id": "0d76d354-4b0f-44a3-b357-cde50da547a5",
   "metadata": {},
   "source": [
    "### 1a. Process data"
   ]
  },
  {
   "cell_type": "code",
   "execution_count": 8,
   "id": "f7b65829-3ff8-4dec-b9f6-7baf62166c1f",
   "metadata": {},
   "outputs": [],
   "source": [
    "# Remove short phrases\n",
    "min_no_words = 4\n",
    "\n",
    "dset['mapping']['text_no_words'] = dset['mapping']['text'].apply(lambda i: len(i.split(\" \")))\n",
    "dset['mapping'] = dset['mapping'][dset['mapping']['text_no_words'] >= min_no_words]\n",
    "\n",
    "dset['vectors'] = dset['vectors'][dset['mapping'].index, :]"
   ]
  },
  {
   "cell_type": "markdown",
   "id": "dc800afb-df33-425e-80c1-81ff47e1f505",
   "metadata": {},
   "source": [
    "## 2. Create faiss indices"
   ]
  },
  {
   "cell_type": "code",
   "execution_count": 9,
   "id": "63b30698-59d5-49b4-8e33-d3364d8bf8cd",
   "metadata": {},
   "outputs": [
    {
     "name": "stdout",
     "output_type": "stream",
     "text": [
      "msmarco-distilbert-dot-v5 created\n"
     ]
    }
   ],
   "source": [
    "if \"-cos-\" in dset[\"model_name\"]:\n",
    "    dset[\"vectors\"] = torch.nn.functional.normalize(\n",
    "            dset[\"vectors\"], p=2, dim=1\n",
    "        )\n",
    "\n",
    "dset['faiss'] = faiss.IndexFlatIP(dset['vectors'].shape[1])\n",
    "dset['faiss'].add(dset['vectors'].numpy())\n",
    "\n",
    "print(f\"{dset['model_name']} created\")\n",
    "        "
   ]
  },
  {
   "cell_type": "code",
   "execution_count": 37,
   "id": "f532f341-49b7-4017-b640-8f5e3408d013",
   "metadata": {},
   "outputs": [],
   "source": [
    "def query_index(query: str, dset: dict, n_res: int = 20):\n",
    "    start = time.time()\n",
    "    query_emb = dset['model'].encode([query])\n",
    "    if \"-cos-\" in dset[\"model_name\"]:\n",
    "        query_emb = query_emb/np.linalg.norm(query_emb, ord=2, axis=1, keepdims=True)\n",
    "    \n",
    "    distances, idxs = dset['faiss'].search(query_emb, n_res)\n",
    "    \n",
    "    results = []\n",
    "    for i in range(len(idxs[0])):\n",
    "        row = dset['mapping'].iloc[idxs[0][i]].to_dict()\n",
    "        row.update(\n",
    "            {\"similarity\": distances[0][i]}\n",
    "        )\n",
    "        \n",
    "        results.append(row)\n",
    "    end = time.time()\n",
    "    print(f\"took {round(end-start, 1)}s\")\n",
    "    \n",
    "    return pd.DataFrame(results)"
   ]
  },
  {
   "cell_type": "markdown",
   "id": "f9b7e257-4df5-41d3-9545-d9fcc58d4fb1",
   "metadata": {},
   "source": [
    "### 3.1 Run a query across all available models"
   ]
  },
  {
   "cell_type": "code",
   "execution_count": 35,
   "id": "a712a816-dd7e-4792-8a01-ea19046940e6",
   "metadata": {},
   "outputs": [],
   "source": [
    "queries = [\n",
    "    \"transport levies in europe\",\n",
    "    \"renewable energy\",\n",
    "    \"deforestation in Brazil\",\n",
    "    \"carbon tax\",\n",
    "    \"net zero target\",\n",
    "    \"electric vehicle charging\",\n",
    "    \"incentives for innovation\",\n",
    "    \"research and development investment\",\n",
    "    \"nature-based solutions\",\n",
    "]"
   ]
  },
  {
   "cell_type": "code",
   "execution_count": 38,
   "id": "34a650b3-208f-4e20-8009-0419622d03cc",
   "metadata": {},
   "outputs": [
    {
     "data": {
      "text/markdown": [
       "### query: *transport levies in europe*"
      ],
      "text/plain": [
       "<IPython.core.display.Markdown object>"
      ]
     },
     "metadata": {},
     "output_type": "display_data"
    },
    {
     "name": "stdout",
     "output_type": "stream",
     "text": [
      "took 11.5s\n"
     ]
    },
    {
     "data": {
      "text/markdown": [
       "### query: *renewable energy*"
      ],
      "text/plain": [
       "<IPython.core.display.Markdown object>"
      ]
     },
     "metadata": {},
     "output_type": "display_data"
    },
    {
     "name": "stdout",
     "output_type": "stream",
     "text": [
      "took 1.7s\n"
     ]
    },
    {
     "data": {
      "text/markdown": [
       "### query: *deforestation in Brazil*"
      ],
      "text/plain": [
       "<IPython.core.display.Markdown object>"
      ]
     },
     "metadata": {},
     "output_type": "display_data"
    },
    {
     "name": "stdout",
     "output_type": "stream",
     "text": [
      "took 0.4s\n"
     ]
    },
    {
     "data": {
      "text/markdown": [
       "### query: *carbon tax*"
      ],
      "text/plain": [
       "<IPython.core.display.Markdown object>"
      ]
     },
     "metadata": {},
     "output_type": "display_data"
    },
    {
     "name": "stdout",
     "output_type": "stream",
     "text": [
      "took 0.4s\n"
     ]
    },
    {
     "data": {
      "text/markdown": [
       "### query: *net zero target*"
      ],
      "text/plain": [
       "<IPython.core.display.Markdown object>"
      ]
     },
     "metadata": {},
     "output_type": "display_data"
    },
    {
     "name": "stdout",
     "output_type": "stream",
     "text": [
      "took 0.3s\n"
     ]
    },
    {
     "data": {
      "text/markdown": [
       "### query: *electric vehicle charging*"
      ],
      "text/plain": [
       "<IPython.core.display.Markdown object>"
      ]
     },
     "metadata": {},
     "output_type": "display_data"
    },
    {
     "name": "stdout",
     "output_type": "stream",
     "text": [
      "took 0.4s\n"
     ]
    },
    {
     "data": {
      "text/markdown": [
       "### query: *incentives for innovation*"
      ],
      "text/plain": [
       "<IPython.core.display.Markdown object>"
      ]
     },
     "metadata": {},
     "output_type": "display_data"
    },
    {
     "name": "stdout",
     "output_type": "stream",
     "text": [
      "took 0.8s\n"
     ]
    },
    {
     "data": {
      "text/markdown": [
       "### query: *research and development investment*"
      ],
      "text/plain": [
       "<IPython.core.display.Markdown object>"
      ]
     },
     "metadata": {},
     "output_type": "display_data"
    },
    {
     "name": "stdout",
     "output_type": "stream",
     "text": [
      "took 0.3s\n"
     ]
    },
    {
     "data": {
      "text/markdown": [
       "### query: *nature-based solutions*"
      ],
      "text/plain": [
       "<IPython.core.display.Markdown object>"
      ]
     },
     "metadata": {},
     "output_type": "display_data"
    },
    {
     "name": "stdout",
     "output_type": "stream",
     "text": [
      "took 0.3s\n"
     ]
    }
   ],
   "source": [
    "N = 30\n",
    "\n",
    "search_results = []\n",
    "\n",
    "for query in queries:\n",
    "    display(Markdown(f\"### query: *{query}*\"))\n",
    "\n",
    "    res = query_index(\n",
    "        query,\n",
    "        dset = dset,\n",
    "        n_res = N,\n",
    "    )\n",
    "\n",
    "    res['query'] = query\n",
    "    \n",
    "    search_results.append(res)\n"
   ]
  },
  {
   "cell_type": "code",
   "execution_count": 17,
   "id": "251df067-47e2-47de-af7e-1e459d2a1658",
   "metadata": {},
   "outputs": [],
   "source": [
    "# pd.concat(search_results)[['query', 'text', 'text_id', 'similarity', 'policy_id', 'page_id',]].to_csv(f\"results_{dset['model_name']}.csv\")"
   ]
  },
  {
   "cell_type": "markdown",
   "id": "10561819-32cb-47e3-b3bf-c33a7794f499",
   "metadata": {},
   "source": [
    "## Appendix 1: measuring query time\n",
    "This can be run without running the rest of the notebook, except for the imports."
   ]
  },
  {
   "cell_type": "code",
   "execution_count": 27,
   "id": "a067f2d6-0c93-481d-be43-20367418ccf9",
   "metadata": {},
   "outputs": [],
   "source": [
    "query_length_range = (1, 6) # inclusive\n",
    "no_samples = 500\n",
    "\n",
    "model_names = [d['model_name'] for d in datasets]\n",
    "mapping_data = datasets[0]['mapping']\n",
    "text_data = mapping_data.loc[\n",
    "    (mapping_data['text_no_words'] >= query_length_range[0]) & (mapping_data['text_no_words'] <= query_length_range[1]),\n",
    "    'text'\n",
    "].sample(no_samples, random_state=42).tolist()"
   ]
  },
  {
   "cell_type": "code",
   "execution_count": 30,
   "id": "d820a004-e779-487f-bda9-6e9570f7aa66",
   "metadata": {},
   "outputs": [
    {
     "name": "stdout",
     "output_type": "stream",
     "text": [
      "multi-qa-MiniLM-L6-cos-v1 completed 500 encodings in 8.07s (0.0161s/encoding)\n",
      "msmarco-distilbert-dot-v5 completed 500 encodings in 25.84s (0.0517s/encoding)\n"
     ]
    }
   ],
   "source": [
    "def measure_time(model_name, text_samples):\n",
    "    encoder = SentenceTransformer(model_name)\n",
    "    start = time.time()\n",
    "    for t in text_samples:\n",
    "        _ = encoder.encode(t)\n",
    "    end = time.time()\n",
    "    \n",
    "    second_per_enc = round((end-start)/len(text_samples), 4)\n",
    "    time_taken = round(end-start, 2)\n",
    "    \n",
    "    print(f\"{model_name} completed {len(text_samples)} encodings in {time_taken}s ({second_per_enc}s/encoding)\")\n",
    "\n",
    "\n",
    "for model_name in model_names:\n",
    "    measure_time(model_name, text_data)"
   ]
  },
  {
   "cell_type": "markdown",
   "id": "a32a089b-d6a2-4f6d-b589-0137b1890f05",
   "metadata": {},
   "source": [
    "## Appendix 2: reducing dimension of embeddings with `faiss`\n",
    "\n",
    "From below we can see that even reducing embeddings to 3/4 of their length leads to vastly different (and worse) results. When we run PCA, the returned phrases also seem to be limited to shorter phrases again."
   ]
  },
  {
   "cell_type": "code",
   "execution_count": 46,
   "id": "0ca9f7ce-162c-4d14-8737-de23ba26d656",
   "metadata": {},
   "outputs": [],
   "source": [
    "target_dims = [576, 384,]# 192, 96, 48]"
   ]
  },
  {
   "cell_type": "code",
   "execution_count": 47,
   "id": "f34ed6a0-4bda-48db-b305-001ff91369ff",
   "metadata": {},
   "outputs": [],
   "source": [
    "def query_index(index, query: str, dset: dict, n_res: int = 20):\n",
    "    start = time.time()\n",
    "    query_emb = dset['model'].encode([query])\n",
    "    if \"-cos-\" in dset[\"model_name\"]:\n",
    "        query_emb = query_emb/np.linalg.norm(query_emb, ord=2, axis=1, keepdims=True)\n",
    "    \n",
    "    distances, idxs = index.search(query_emb, n_res)\n",
    "    \n",
    "    results = []\n",
    "    for i in range(len(idxs[0])):\n",
    "        row = dset['mapping'].iloc[idxs[0][i]].to_dict()\n",
    "        row.update(\n",
    "            {\"similarity\": distances[0][i]}\n",
    "        )\n",
    "        \n",
    "        results.append(row)\n",
    "    end = time.time()\n",
    "    # print(f\"took {round(end-start, 1)}s\")\n",
    "    \n",
    "    return pd.DataFrame(results)"
   ]
  },
  {
   "cell_type": "code",
   "execution_count": 48,
   "id": "27535a08-6c83-4572-ac22-ec32cab706e4",
   "metadata": {},
   "outputs": [
    {
     "data": {
      "application/vnd.jupyter.widget-view+json": {
       "model_id": "da11f382a2fd4bdb9f8178881e6bc0d5",
       "version_major": 2,
       "version_minor": 0
      },
      "text/plain": [
       "  0%|          | 0/2 [00:00<?, ?it/s]"
      ]
     },
     "metadata": {},
     "output_type": "display_data"
    }
   ],
   "source": [
    "N = 30\n",
    "\n",
    "pca_experiment_results = {}\n",
    "\n",
    "for dim in tqdm(target_dims):\n",
    "    pca = faiss.PCAMatrix(\n",
    "        d_in=dset['vectors'].shape[1], \n",
    "        d_out=dim, \n",
    "        random_rotation=False\n",
    "    )\n",
    "    faiss_small = faiss.IndexFlatIP(dim)\n",
    "\n",
    "    pipeline_small = faiss.IndexPreTransform(pca, faiss_small)\n",
    "    pipeline_small.train(dset['vectors'].numpy())\n",
    "    pipeline_small.add(dset['vectors'].numpy())\n",
    "\n",
    "    temp_results = []\n",
    "\n",
    "    for query in queries:\n",
    "        # display(Markdown(f\"### query: *{query}*\"))\n",
    "\n",
    "        res = query_index(\n",
    "            pipeline_small,\n",
    "            query,\n",
    "            dset = dset,\n",
    "            n_res = N,\n",
    "        )\n",
    "\n",
    "        res['query'] = query\n",
    "\n",
    "        temp_results.append(res)\n",
    "        \n",
    "    pca_experiment_results[dim] = pd.concat(temp_results)\n"
   ]
  },
  {
   "cell_type": "code",
   "execution_count": 55,
   "id": "2c2e39a0-90ec-4085-8d71-731391be2b0b",
   "metadata": {},
   "outputs": [
    {
     "data": {
      "text/html": [
       "<div>\n",
       "<style scoped>\n",
       "    .dataframe tbody tr th:only-of-type {\n",
       "        vertical-align: middle;\n",
       "    }\n",
       "\n",
       "    .dataframe tbody tr th {\n",
       "        vertical-align: top;\n",
       "    }\n",
       "\n",
       "    .dataframe thead th {\n",
       "        text-align: right;\n",
       "    }\n",
       "</style>\n",
       "<table border=\"1\" class=\"dataframe\">\n",
       "  <thead>\n",
       "    <tr style=\"text-align: right;\">\n",
       "      <th></th>\n",
       "      <th>policy_id</th>\n",
       "      <th>page_id</th>\n",
       "      <th>text</th>\n",
       "      <th>text_id</th>\n",
       "      <th>text_no_words</th>\n",
       "      <th>similarity</th>\n",
       "      <th>query</th>\n",
       "    </tr>\n",
       "  </thead>\n",
       "  <tbody>\n",
       "    <tr>\n",
       "      <th>0</th>\n",
       "      <td>1217</td>\n",
       "      <td>0</td>\n",
       "      <td>Renewable Energy or RE is any energy source generated from natural resources which are naturally regenerative or replenished such as solar, wind, ocean, geothermal, hydro and biomass.</td>\n",
       "      <td>1341542</td>\n",
       "      <td>27</td>\n",
       "      <td>82.803665</td>\n",
       "      <td>renewable energy</td>\n",
       "    </tr>\n",
       "    <tr>\n",
       "      <th>1</th>\n",
       "      <td>1175</td>\n",
       "      <td>76</td>\n",
       "      <td>Renewable energy Is obtained from the continuing or repetitive currents of energy occurring in the natural environment and includes non-carbon technologies such as solar energy, hydropower, wind, tide and waves and geothermal heat, as well as carbon-neutral technologies such as biomass.</td>\n",
       "      <td>1319188</td>\n",
       "      <td>41</td>\n",
       "      <td>82.713837</td>\n",
       "      <td>renewable energy</td>\n",
       "    </tr>\n",
       "    <tr>\n",
       "      <th>2</th>\n",
       "      <td>925</td>\n",
       "      <td>24</td>\n",
       "      <td>Renewable energy is energy that comes from any naturally occurring and replenishable source such as biomass, solar, wind, tidal, wave, flowing water (hydropower) and geothermal heat.</td>\n",
       "      <td>1060794</td>\n",
       "      <td>26</td>\n",
       "      <td>82.621262</td>\n",
       "      <td>renewable energy</td>\n",
       "    </tr>\n",
       "    <tr>\n",
       "      <th>3</th>\n",
       "      <td>445</td>\n",
       "      <td>3</td>\n",
       "      <td>renewable energy means energy generated from natural non-depleting resources including solar energy, wind energy, biomass energy, biological waste energy, hydro energy, geothermal energy and ocean and tidal energy.</td>\n",
       "      <td>548884</td>\n",
       "      <td>28</td>\n",
       "      <td>82.470673</td>\n",
       "      <td>renewable energy</td>\n",
       "    </tr>\n",
       "    <tr>\n",
       "      <th>4</th>\n",
       "      <td>1327</td>\n",
       "      <td>3</td>\n",
       "      <td>renewable energy means energy generated from natural non-depleting resources including solar energy, wind energy, biomass energy, biological waste energy, hydro energy, geothermal energy and ocean and tidal energy.</td>\n",
       "      <td>1422428</td>\n",
       "      <td>28</td>\n",
       "      <td>82.470673</td>\n",
       "      <td>renewable energy</td>\n",
       "    </tr>\n",
       "    <tr>\n",
       "      <th>5</th>\n",
       "      <td>1512</td>\n",
       "      <td>8</td>\n",
       "      <td>Renewable energy is a clean energy source that can be replenished naturally and used to produce electricity with minimal or nil greenhouse gas emissions.</td>\n",
       "      <td>1597330</td>\n",
       "      <td>24</td>\n",
       "      <td>82.441666</td>\n",
       "      <td>renewable energy</td>\n",
       "    </tr>\n",
       "    <tr>\n",
       "      <th>6</th>\n",
       "      <td>226</td>\n",
       "      <td>16</td>\n",
       "      <td>Renewable energy refers to energy that comes from resources such as water, wind, sunlight, geothermal heat, tides, waves, biological fuels and other resources that can generate renewable energy.</td>\n",
       "      <td>256700</td>\n",
       "      <td>28</td>\n",
       "      <td>82.333565</td>\n",
       "      <td>renewable energy</td>\n",
       "    </tr>\n",
       "    <tr>\n",
       "      <th>7</th>\n",
       "      <td>1337</td>\n",
       "      <td>244</td>\n",
       "      <td>Renewable energy: Energy derived from resources that are regenerative or that cannot be depleted.</td>\n",
       "      <td>1441694</td>\n",
       "      <td>14</td>\n",
       "      <td>82.194717</td>\n",
       "      <td>renewable energy</td>\n",
       "    </tr>\n",
       "    <tr>\n",
       "      <th>8</th>\n",
       "      <td>126</td>\n",
       "      <td>177</td>\n",
       "      <td>Renewable Energy (RE) is any energy source that is naturally replenished, that is, from a source that is not depleted when used, such as solar, wind, geothermal, biomass or hydroelectric generation.</td>\n",
       "      <td>134087</td>\n",
       "      <td>31</td>\n",
       "      <td>82.157097</td>\n",
       "      <td>renewable energy</td>\n",
       "    </tr>\n",
       "    <tr>\n",
       "      <th>9</th>\n",
       "      <td>231</td>\n",
       "      <td>283</td>\n",
       "      <td>RENEWABLE ENERGY.The term renewable energy means energy derived from resources that are regenerative or that cannot be depleted, including solar, wind, ethanol, and biodiesel fuels. )</td>\n",
       "      <td>285809</td>\n",
       "      <td>26</td>\n",
       "      <td>82.132683</td>\n",
       "      <td>renewable energy</td>\n",
       "    </tr>\n",
       "    <tr>\n",
       "      <th>10</th>\n",
       "      <td>656</td>\n",
       "      <td>2</td>\n",
       "      <td>Renewable energy: energy obtained from renewable natural sources, such as the energy from the sun, wind, biomass, water and geothermal resources.</td>\n",
       "      <td>785470</td>\n",
       "      <td>21</td>\n",
       "      <td>82.106079</td>\n",
       "      <td>renewable energy</td>\n",
       "    </tr>\n",
       "    <tr>\n",
       "      <th>11</th>\n",
       "      <td>724</td>\n",
       "      <td>18</td>\n",
       "      <td>Renewable Energy: Energy that is collected from resources which are naturally replenished on a human timescale, such as sunlight, wind, rain, tides, waves, and geothermal heat.</td>\n",
       "      <td>871238</td>\n",
       "      <td>26</td>\n",
       "      <td>82.071198</td>\n",
       "      <td>renewable energy</td>\n",
       "    </tr>\n",
       "    <tr>\n",
       "      <th>12</th>\n",
       "      <td>427</td>\n",
       "      <td>181</td>\n",
       "      <td>Renewable energies are energy sources that are continually replenished by nature and derived directly from the sun (such as thermal, photo-chemical, and photo-electric), indirectly from the sun (such as wind, hydropower, and photosynthetic energy stored in biomass), or from other natural movements and mechanism of the environment (such as geothermal and tidal energy).</td>\n",
       "      <td>526081</td>\n",
       "      <td>53</td>\n",
       "      <td>82.053513</td>\n",
       "      <td>renewable energy</td>\n",
       "    </tr>\n",
       "    <tr>\n",
       "      <th>13</th>\n",
       "      <td>392</td>\n",
       "      <td>3</td>\n",
       "      <td>renewable energy means any form of energy that is not derived from fossil fuels and specifically excludes energy from petroleum products and energy from coal products.</td>\n",
       "      <td>468369</td>\n",
       "      <td>26</td>\n",
       "      <td>82.053444</td>\n",
       "      <td>renewable energy</td>\n",
       "    </tr>\n",
       "    <tr>\n",
       "      <th>14</th>\n",
       "      <td>392</td>\n",
       "      <td>2</td>\n",
       "      <td>renewable energy means any form of energy that is not derived from fossil fuels and specifically excludes energy from petroleum products and energy from coal products.</td>\n",
       "      <td>468343</td>\n",
       "      <td>26</td>\n",
       "      <td>82.053444</td>\n",
       "      <td>renewable energy</td>\n",
       "    </tr>\n",
       "    <tr>\n",
       "      <th>15</th>\n",
       "      <td>425</td>\n",
       "      <td>382</td>\n",
       "      <td>RENEWABLE ENERGY.The term renewable energy means energy derived from (A) a wind, solar, renewable biomass, ocean (including tidal, wave, current, and thermal), geothermal, or hydroelectric source.</td>\n",
       "      <td>508213</td>\n",
       "      <td>26</td>\n",
       "      <td>82.043777</td>\n",
       "      <td>renewable energy</td>\n",
       "    </tr>\n",
       "    <tr>\n",
       "      <th>16</th>\n",
       "      <td>738</td>\n",
       "      <td>14</td>\n",
       "      <td>Renewable energy: Any form of energy from solar, geophysical, or biological sources that is replenished by natural processes at a rate that equals or exceeds its rate of use (IPCC, 2014).</td>\n",
       "      <td>883412</td>\n",
       "      <td>31</td>\n",
       "      <td>82.038574</td>\n",
       "      <td>renewable energy</td>\n",
       "    </tr>\n",
       "    <tr>\n",
       "      <th>17</th>\n",
       "      <td>322</td>\n",
       "      <td>3</td>\n",
       "      <td>renewable energy means a source of energy which is capable of being replenished, including biomass, geothermal heat, rain, sunlight, tides, waves and Amendment of section 3 4.</td>\n",
       "      <td>402739</td>\n",
       "      <td>27</td>\n",
       "      <td>82.024712</td>\n",
       "      <td>renewable energy</td>\n",
       "    </tr>\n",
       "    <tr>\n",
       "      <th>18</th>\n",
       "      <td>845</td>\n",
       "      <td>154</td>\n",
       "      <td>Renewable energy: Power for a sustainable future.</td>\n",
       "      <td>981722</td>\n",
       "      <td>7</td>\n",
       "      <td>81.957413</td>\n",
       "      <td>renewable energy</td>\n",
       "    </tr>\n",
       "  </tbody>\n",
       "</table>\n",
       "</div>"
      ],
      "text/plain": [
       "    policy_id  page_id                                                                                                                                                                                                                                                                                                                                                                                text  text_id  text_no_words  similarity             query\n",
       "0        1217        0                                                                                                                                                                                             Renewable Energy or RE is any energy source generated from natural resources which are naturally regenerative or replenished such as solar, wind, ocean, geothermal, hydro and biomass.  1341542             27   82.803665  renewable energy\n",
       "1        1175       76                                                                                     Renewable energy Is obtained from the continuing or repetitive currents of energy occurring in the natural environment and includes non-carbon technologies such as solar energy, hydropower, wind, tide and waves and geothermal heat, as well as carbon-neutral technologies such as biomass.  1319188             41   82.713837  renewable energy\n",
       "2         925       24                                                                                                                                                                                              Renewable energy is energy that comes from any naturally occurring and replenishable source such as biomass, solar, wind, tidal, wave, flowing water (hydropower) and geothermal heat.  1060794             26   82.621262  renewable energy\n",
       "3         445        3                                                                                                                                                              renewable energy means energy generated from natural non-depleting resources including solar energy, wind energy, biomass energy, biological waste energy, hydro energy, geothermal energy and ocean and tidal energy.   548884             28   82.470673  renewable energy\n",
       "4        1327        3                                                                                                                                                              renewable energy means energy generated from natural non-depleting resources including solar energy, wind energy, biomass energy, biological waste energy, hydro energy, geothermal energy and ocean and tidal energy.  1422428             28   82.470673  renewable energy\n",
       "5        1512        8                                                                                                                                                                                                                           Renewable energy is a clean energy source that can be replenished naturally and used to produce electricity with minimal or nil greenhouse gas emissions.  1597330             24   82.441666  renewable energy\n",
       "6         226       16                                                                                                                                                                                  Renewable energy refers to energy that comes from resources such as water, wind, sunlight, geothermal heat, tides, waves, biological fuels and other resources that can generate renewable energy.   256700             28   82.333565  renewable energy\n",
       "7        1337      244                                                                                                                                                                                                                                                                                   Renewable energy: Energy derived from resources that are regenerative or that cannot be depleted.  1441694             14   82.194717  renewable energy\n",
       "8         126      177                                                                                                                                                                              Renewable Energy (RE) is any energy source that is naturally replenished, that is, from a source that is not depleted when used, such as solar, wind, geothermal, biomass or hydroelectric generation.   134087             31   82.157097  renewable energy\n",
       "9         231      283                                                                                                                                                                                             RENEWABLE ENERGY.The term renewable energy means energy derived from resources that are regenerative or that cannot be depleted, including solar, wind, ethanol, and biodiesel fuels. )   285809             26   82.132683  renewable energy\n",
       "10        656        2                                                                                                                                                                                                                                   Renewable energy: energy obtained from renewable natural sources, such as the energy from the sun, wind, biomass, water and geothermal resources.   785470             21   82.106079  renewable energy\n",
       "11        724       18                                                                                                                                                                                                    Renewable Energy: Energy that is collected from resources which are naturally replenished on a human timescale, such as sunlight, wind, rain, tides, waves, and geothermal heat.   871238             26   82.071198  renewable energy\n",
       "12        427      181  Renewable energies are energy sources that are continually replenished by nature and derived directly from the sun (such as thermal, photo-chemical, and photo-electric), indirectly from the sun (such as wind, hydropower, and photosynthetic energy stored in biomass), or from other natural movements and mechanism of the environment (such as geothermal and tidal energy).   526081             53   82.053513  renewable energy\n",
       "13        392        3                                                                                                                                                                                                             renewable energy means any form of energy that is not derived from fossil fuels and specifically excludes energy from petroleum products and energy from coal products.   468369             26   82.053444  renewable energy\n",
       "14        392        2                                                                                                                                                                                                             renewable energy means any form of energy that is not derived from fossil fuels and specifically excludes energy from petroleum products and energy from coal products.   468343             26   82.053444  renewable energy\n",
       "15        425      382                                                                                                                                                                                RENEWABLE ENERGY.The term renewable energy means energy derived from (A) a wind, solar, renewable biomass, ocean (including tidal, wave, current, and thermal), geothermal, or hydroelectric source.   508213             26   82.043777  renewable energy\n",
       "16        738       14                                                                                                                                                                                         Renewable energy: Any form of energy from solar, geophysical, or biological sources that is replenished by natural processes at a rate that equals or exceeds its rate of use (IPCC, 2014).   883412             31   82.038574  renewable energy\n",
       "17        322        3                                                                                                                                                                                                     renewable energy means a source of energy which is capable of being replenished, including biomass, geothermal heat, rain, sunlight, tides, waves and Amendment of section 3 4.   402739             27   82.024712  renewable energy\n",
       "18        845      154                                                                                                                                                                                                                                                                                                                                   Renewable energy: Power for a sustainable future.   981722              7   81.957413  renewable energy"
      ]
     },
     "execution_count": 55,
     "metadata": {},
     "output_type": "execute_result"
    }
   ],
   "source": [
    "pd.concat(search_results).iloc[30:49]"
   ]
  },
  {
   "cell_type": "code",
   "execution_count": 56,
   "id": "83fbd5ea-aa4c-402d-8882-76027ba098ea",
   "metadata": {},
   "outputs": [
    {
     "data": {
      "text/html": [
       "<div>\n",
       "<style scoped>\n",
       "    .dataframe tbody tr th:only-of-type {\n",
       "        vertical-align: middle;\n",
       "    }\n",
       "\n",
       "    .dataframe tbody tr th {\n",
       "        vertical-align: top;\n",
       "    }\n",
       "\n",
       "    .dataframe thead th {\n",
       "        text-align: right;\n",
       "    }\n",
       "</style>\n",
       "<table border=\"1\" class=\"dataframe\">\n",
       "  <thead>\n",
       "    <tr style=\"text-align: right;\">\n",
       "      <th></th>\n",
       "      <th>policy_id</th>\n",
       "      <th>page_id</th>\n",
       "      <th>text</th>\n",
       "      <th>text_id</th>\n",
       "      <th>text_no_words</th>\n",
       "      <th>similarity</th>\n",
       "      <th>query</th>\n",
       "    </tr>\n",
       "  </thead>\n",
       "  <tbody>\n",
       "    <tr>\n",
       "      <th>0</th>\n",
       "      <td>659</td>\n",
       "      <td>215</td>\n",
       "      <td>Renewable Energy Solar PV</td>\n",
       "      <td>795161</td>\n",
       "      <td>4</td>\n",
       "      <td>17.609360</td>\n",
       "      <td>renewable energy</td>\n",
       "    </tr>\n",
       "    <tr>\n",
       "      <th>1</th>\n",
       "      <td>912</td>\n",
       "      <td>54</td>\n",
       "      <td>Renewable energy heating and cooking</td>\n",
       "      <td>1039910</td>\n",
       "      <td>5</td>\n",
       "      <td>17.422514</td>\n",
       "      <td>renewable energy</td>\n",
       "    </tr>\n",
       "    <tr>\n",
       "      <th>2</th>\n",
       "      <td>296</td>\n",
       "      <td>30</td>\n",
       "      <td>What is Renewable Energy?</td>\n",
       "      <td>389307</td>\n",
       "      <td>4</td>\n",
       "      <td>17.289688</td>\n",
       "      <td>renewable energy</td>\n",
       "    </tr>\n",
       "    <tr>\n",
       "      <th>3</th>\n",
       "      <td>295</td>\n",
       "      <td>30</td>\n",
       "      <td>What is Renewable Energy?</td>\n",
       "      <td>387815</td>\n",
       "      <td>4</td>\n",
       "      <td>17.289688</td>\n",
       "      <td>renewable energy</td>\n",
       "    </tr>\n",
       "    <tr>\n",
       "      <th>4</th>\n",
       "      <td>1512</td>\n",
       "      <td>8</td>\n",
       "      <td>What is renewable energy?</td>\n",
       "      <td>1597332</td>\n",
       "      <td>4</td>\n",
       "      <td>17.289688</td>\n",
       "      <td>renewable energy</td>\n",
       "    </tr>\n",
       "    <tr>\n",
       "      <th>5</th>\n",
       "      <td>593</td>\n",
       "      <td>1</td>\n",
       "      <td>Renewable Energy shall mean the Energy deriving from Renewable Energy Sources.</td>\n",
       "      <td>701955</td>\n",
       "      <td>11</td>\n",
       "      <td>17.106400</td>\n",
       "      <td>renewable energy</td>\n",
       "    </tr>\n",
       "    <tr>\n",
       "      <th>6</th>\n",
       "      <td>878</td>\n",
       "      <td>9</td>\n",
       "      <td>renewable energy means electricity generated or produced from renewable resources.</td>\n",
       "      <td>1008526</td>\n",
       "      <td>10</td>\n",
       "      <td>16.751535</td>\n",
       "      <td>renewable energy</td>\n",
       "    </tr>\n",
       "    <tr>\n",
       "      <th>7</th>\n",
       "      <td>659</td>\n",
       "      <td>12</td>\n",
       "      <td>RES-H Renewable energy heat</td>\n",
       "      <td>792689</td>\n",
       "      <td>4</td>\n",
       "      <td>16.705727</td>\n",
       "      <td>renewable energy</td>\n",
       "    </tr>\n",
       "    <tr>\n",
       "      <th>8</th>\n",
       "      <td>1337</td>\n",
       "      <td>244</td>\n",
       "      <td>Renewable energy: Energy derived from resources that are regenerative or that cannot be depleted.</td>\n",
       "      <td>1441694</td>\n",
       "      <td>14</td>\n",
       "      <td>16.654448</td>\n",
       "      <td>renewable energy</td>\n",
       "    </tr>\n",
       "    <tr>\n",
       "      <th>9</th>\n",
       "      <td>845</td>\n",
       "      <td>154</td>\n",
       "      <td>Renewable energy: Power for a sustainable future.</td>\n",
       "      <td>981722</td>\n",
       "      <td>7</td>\n",
       "      <td>16.560579</td>\n",
       "      <td>renewable energy</td>\n",
       "    </tr>\n",
       "    <tr>\n",
       "      <th>10</th>\n",
       "      <td>1001</td>\n",
       "      <td>68</td>\n",
       "      <td>Renewable Energy International Maritime Organization.</td>\n",
       "      <td>1133416</td>\n",
       "      <td>5</td>\n",
       "      <td>16.556629</td>\n",
       "      <td>renewable energy</td>\n",
       "    </tr>\n",
       "    <tr>\n",
       "      <th>11</th>\n",
       "      <td>665</td>\n",
       "      <td>339</td>\n",
       "      <td>Renewable Nuclear power plants</td>\n",
       "      <td>818094</td>\n",
       "      <td>4</td>\n",
       "      <td>16.555248</td>\n",
       "      <td>renewable energy</td>\n",
       "    </tr>\n",
       "    <tr>\n",
       "      <th>12</th>\n",
       "      <td>296</td>\n",
       "      <td>1</td>\n",
       "      <td>Other Renewable Energy Technologies</td>\n",
       "      <td>388966</td>\n",
       "      <td>4</td>\n",
       "      <td>16.394260</td>\n",
       "      <td>renewable energy</td>\n",
       "    </tr>\n",
       "    <tr>\n",
       "      <th>13</th>\n",
       "      <td>295</td>\n",
       "      <td>1</td>\n",
       "      <td>Other Renewable Energy Technologies</td>\n",
       "      <td>387474</td>\n",
       "      <td>4</td>\n",
       "      <td>16.394260</td>\n",
       "      <td>renewable energy</td>\n",
       "    </tr>\n",
       "    <tr>\n",
       "      <th>14</th>\n",
       "      <td>417</td>\n",
       "      <td>0</td>\n",
       "      <td>Offshore Renewable Energy Resource</td>\n",
       "      <td>496345</td>\n",
       "      <td>4</td>\n",
       "      <td>16.343136</td>\n",
       "      <td>renewable energy</td>\n",
       "    </tr>\n",
       "    <tr>\n",
       "      <th>15</th>\n",
       "      <td>417</td>\n",
       "      <td>2</td>\n",
       "      <td>Offshore Renewable Energy Resource</td>\n",
       "      <td>496347</td>\n",
       "      <td>4</td>\n",
       "      <td>16.343136</td>\n",
       "      <td>renewable energy</td>\n",
       "    </tr>\n",
       "    <tr>\n",
       "      <th>16</th>\n",
       "      <td>586</td>\n",
       "      <td>796</td>\n",
       "      <td>Renewable Energy Association Myanmar renewable energy.</td>\n",
       "      <td>693214</td>\n",
       "      <td>6</td>\n",
       "      <td>16.329706</td>\n",
       "      <td>renewable energy</td>\n",
       "    </tr>\n",
       "    <tr>\n",
       "      <th>17</th>\n",
       "      <td>75</td>\n",
       "      <td>34</td>\n",
       "      <td>Renewable energies in Israel.</td>\n",
       "      <td>79755</td>\n",
       "      <td>4</td>\n",
       "      <td>16.327211</td>\n",
       "      <td>renewable energy</td>\n",
       "    </tr>\n",
       "    <tr>\n",
       "      <th>18</th>\n",
       "      <td>229</td>\n",
       "      <td>401</td>\n",
       "      <td>CLEAN RENEWABLE ENERGY BOND</td>\n",
       "      <td>277523</td>\n",
       "      <td>4</td>\n",
       "      <td>16.313629</td>\n",
       "      <td>renewable energy</td>\n",
       "    </tr>\n",
       "  </tbody>\n",
       "</table>\n",
       "</div>"
      ],
      "text/plain": [
       "    policy_id  page_id                                                                                               text  text_id  text_no_words  similarity             query\n",
       "0         659      215                                                                          Renewable Energy Solar PV   795161              4   17.609360  renewable energy\n",
       "1         912       54                                                               Renewable energy heating and cooking  1039910              5   17.422514  renewable energy\n",
       "2         296       30                                                                          What is Renewable Energy?   389307              4   17.289688  renewable energy\n",
       "3         295       30                                                                          What is Renewable Energy?   387815              4   17.289688  renewable energy\n",
       "4        1512        8                                                                          What is renewable energy?  1597332              4   17.289688  renewable energy\n",
       "5         593        1                     Renewable Energy shall mean the Energy deriving from Renewable Energy Sources.   701955             11   17.106400  renewable energy\n",
       "6         878        9                 renewable energy means electricity generated or produced from renewable resources.  1008526             10   16.751535  renewable energy\n",
       "7         659       12                                                                        RES-H Renewable energy heat   792689              4   16.705727  renewable energy\n",
       "8        1337      244  Renewable energy: Energy derived from resources that are regenerative or that cannot be depleted.  1441694             14   16.654448  renewable energy\n",
       "9         845      154                                                  Renewable energy: Power for a sustainable future.   981722              7   16.560579  renewable energy\n",
       "10       1001       68                                              Renewable Energy International Maritime Organization.  1133416              5   16.556629  renewable energy\n",
       "11        665      339                                                                     Renewable Nuclear power plants   818094              4   16.555248  renewable energy\n",
       "12        296        1                                                                Other Renewable Energy Technologies   388966              4   16.394260  renewable energy\n",
       "13        295        1                                                                Other Renewable Energy Technologies   387474              4   16.394260  renewable energy\n",
       "14        417        0                                                                 Offshore Renewable Energy Resource   496345              4   16.343136  renewable energy\n",
       "15        417        2                                                                 Offshore Renewable Energy Resource   496347              4   16.343136  renewable energy\n",
       "16        586      796                                             Renewable Energy Association Myanmar renewable energy.   693214              6   16.329706  renewable energy\n",
       "17         75       34                                                                      Renewable energies in Israel.    79755              4   16.327211  renewable energy\n",
       "18        229      401                                                                        CLEAN RENEWABLE ENERGY BOND   277523              4   16.313629  renewable energy"
      ]
     },
     "execution_count": 56,
     "metadata": {},
     "output_type": "execute_result"
    }
   ],
   "source": [
    "pca_experiment_results[576].iloc[30:49]"
   ]
  },
  {
   "cell_type": "code",
   "execution_count": 59,
   "id": "e95bfe47-4ff7-4cc5-be0a-399a221c52a5",
   "metadata": {},
   "outputs": [
    {
     "data": {
      "text/plain": [
       "13.555555555555555"
      ]
     },
     "execution_count": 59,
     "metadata": {},
     "output_type": "execute_result"
    }
   ],
   "source": [
    "def measure_search_results_diff(orig_df, compressed_df):\n",
    "    set_diffs = []\n",
    "    \n",
    "    for query, group in orig_df.groupby('query'):\n",
    "        orig_results = group['text_id'].tolist()\n",
    "        compressed_pipeline_results = compressed_df.loc[compressed_df['query'] == query, 'text_id'].tolist()\n",
    "        \n",
    "        query_set_diff = len(set(compressed_pipeline_results) - set(orig_results))\n",
    "        set_diffs.append(query_set_diff)\n",
    "        \n",
    "    return set_diffs\n",
    "        \n",
    "        \n",
    "orig_df = pd.concat(search_results)\n",
    "np.mean(measure_search_results_diff(orig_df, pca_experiment_results[384]))\n",
    "        "
   ]
  },
  {
   "cell_type": "code",
   "execution_count": null,
   "id": "646c5c99-5f91-45b3-861f-e650eb5bf347",
   "metadata": {},
   "outputs": [],
   "source": []
  }
 ],
 "metadata": {
  "kernelspec": {
   "display_name": "Python 3 (ipykernel)",
   "language": "python",
   "name": "python3"
  },
  "language_info": {
   "codemirror_mode": {
    "name": "ipython",
    "version": 3
   },
   "file_extension": ".py",
   "mimetype": "text/x-python",
   "name": "python",
   "nbconvert_exporter": "python",
   "pygments_lexer": "ipython3",
   "version": "3.8.7"
  }
 },
 "nbformat": 4,
 "nbformat_minor": 5
}
