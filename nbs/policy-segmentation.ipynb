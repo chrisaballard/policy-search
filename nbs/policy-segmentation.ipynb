{
 "cells": [
  {
   "cell_type": "markdown",
   "source": [
    "# Policy text segmentation and preprocessing\n",
    "This notebook explores approaches to improving quality of text extracted from policies.\n",
    "## Background\n",
    "At the moment, policy text is extracted carte blanche from a pdf. This means that ALL text is extracted, including the following cases:\n",
    "\n",
    "- headers/footers\n",
    "- page numbers\n",
    "- text and labels in figures\n",
    "- text used for \"formatting\" - e.g. multiple periods separating table of contents entries from their associated page numbers.\n",
    "\n",
    "Although we could use advanced approaches, such as document layout analysis to resolve some issues, for the prototype we prefer simpler approaches that can be implemented more easily. This notebook explores options to overcome these issues."
   ],
   "metadata": {}
  },
  {
   "cell_type": "code",
   "execution_count": 13,
   "source": [
    "from pathlib import Path\n",
    "\n",
    "corpus_path = Path('../data/corpus_20210701/text')"
   ],
   "outputs": [],
   "metadata": {}
  },
  {
   "cell_type": "code",
   "execution_count": 11,
   "source": [
    "text_filename = 'cclw-9874-d535074a901e4a1ca809239181d3c999.txt'"
   ],
   "outputs": [],
   "metadata": {}
  },
  {
   "cell_type": "code",
   "execution_count": 19,
   "source": [
    "policy_text = []\n",
    "with open(corpus_path / text_filename) as corpus_f:\n",
    "    for l in corpus_f:\n",
    "        if l.strip() != '\\n':\n",
    "            policy_text.append(l)"
   ],
   "outputs": [],
   "metadata": {}
  },
  {
   "cell_type": "code",
   "execution_count": 20,
   "source": [
    "policy_text[0]"
   ],
   "outputs": [
    {
     "output_type": "execute_result",
     "data": {
      "text/plain": [
       "' \\n'"
      ]
     },
     "metadata": {},
     "execution_count": 20
    }
   ],
   "metadata": {}
  },
  {
   "cell_type": "code",
   "execution_count": null,
   "source": [],
   "outputs": [],
   "metadata": {}
  }
 ],
 "metadata": {
  "orig_nbformat": 4,
  "language_info": {
   "name": "python",
   "version": "3.8.10",
   "mimetype": "text/x-python",
   "codemirror_mode": {
    "name": "ipython",
    "version": 3
   },
   "pygments_lexer": "ipython3",
   "nbconvert_exporter": "python",
   "file_extension": ".py"
  },
  "kernelspec": {
   "name": "python3",
   "display_name": "Python 3.8.10 64-bit ('policy-search-9Q5rucAN': pipenv)"
  },
  "interpreter": {
   "hash": "f2796f21cc28d686d0ce4ba656b5b550415b00bc282fe6dd4062bc35a6f9a85f"
  }
 },
 "nbformat": 4,
 "nbformat_minor": 2
}