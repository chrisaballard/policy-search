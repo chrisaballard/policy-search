{
 "cells": [
  {
   "cell_type": "markdown",
   "metadata": {},
   "source": [
    "# Add document-level metadata\n",
    "\n",
    "This temporary notebook combines additional document level metadata from CCLW with the dataset in ```processed_policies``` that has already been extracted from CCLW."
   ]
  },
  {
   "cell_type": "code",
   "execution_count": 253,
   "metadata": {},
   "outputs": [],
   "source": [
    "from pathlib import Path\n",
    "\n",
    "import pandas as pd\n",
    "from bs4 import BeautifulSoup"
   ]
  },
  {
   "cell_type": "markdown",
   "metadata": {},
   "source": [
    "## Load datasets"
   ]
  },
  {
   "cell_type": "code",
   "execution_count": 254,
   "metadata": {},
   "outputs": [],
   "source": [
    "data_path = Path(\"../../data\")\n",
    "cpr_policies_df = pd.read_csv(data_path / \"processed_policies.csv\")\n",
    "cclw_df = pd.read_csv(\n",
    "    data_path / \"cclw\" / \"cclw_policies_fe_26102021.csv\",\n",
    "    usecols=[\"Title\", \"Geography ISO\", \"Instruments\", \"Natural Hazards\", \"Responses\", \"Events\", \"Description\"]\n",
    ")\n",
    "\n",
    "# Rename cclw columns\n",
    "cclw_df.rename(columns={\n",
    "    \"Title\": \"policy_name\",\n",
    "    \"Geography ISO\": \"country_code\", \n",
    "    \"Instruments\": \"instrument_list\", \n",
    "    \"Natural Hazards\": \"hazard_list\", \n",
    "    \"Responses\": \"responses_list\", \n",
    "    \"Events\": \"events_list\", \n",
    "    \"Description\": \"policy_description\"\n",
    "}, inplace=True)"
   ]
  },
  {
   "cell_type": "markdown",
   "metadata": {},
   "source": [
    "Check counts to make sure we don't lose any rows from merging"
   ]
  },
  {
   "cell_type": "code",
   "execution_count": 255,
   "metadata": {},
   "outputs": [
    {
     "data": {
      "text/plain": [
       "(7121, 2382)"
      ]
     },
     "execution_count": 255,
     "metadata": {},
     "output_type": "execute_result"
    }
   ],
   "source": [
    "len(cpr_policies_df), len(cclw_df)"
   ]
  },
  {
   "cell_type": "markdown",
   "metadata": {},
   "source": [
    "Verify how many cclw policies are in the cpr dataset"
   ]
  },
  {
   "cell_type": "code",
   "execution_count": 256,
   "metadata": {},
   "outputs": [
    {
     "data": {
      "text/plain": [
       "2418"
      ]
     },
     "execution_count": 256,
     "metadata": {},
     "output_type": "execute_result"
    }
   ],
   "source": [
    "len(cpr_policies_df.loc[cpr_policies_df.source_name == \"cclw\"])"
   ]
  },
  {
   "cell_type": "markdown",
   "metadata": {},
   "source": []
  },
  {
   "cell_type": "markdown",
   "metadata": {},
   "source": [
    "## Merge datasets"
   ]
  },
  {
   "cell_type": "markdown",
   "metadata": {},
   "source": [
    "Get cpr policies that were originally loaded from CCLW"
   ]
  },
  {
   "cell_type": "code",
   "execution_count": 257,
   "metadata": {},
   "outputs": [],
   "source": [
    "cpr_policies_source_cclw_df = cpr_policies_df.loc[cpr_policies_df.source_name == \"cclw\"]"
   ]
  },
  {
   "cell_type": "markdown",
   "metadata": {},
   "source": [
    "Remove any duplicates in the cclw dataset (this may result in loss of some data, but prevents duplicates being created in the merge)"
   ]
  },
  {
   "cell_type": "code",
   "execution_count": 258,
   "metadata": {},
   "outputs": [],
   "source": [
    "cclw_df.drop_duplicates(subset=[\"policy_name\", \"country_code\"], inplace=True)"
   ]
  },
  {
   "cell_type": "markdown",
   "metadata": {},
   "source": [
    "Merge the cclw dataset with cpr. This is a left join since there are cpd policies in the cpr dataset too and we don't want to lose them."
   ]
  },
  {
   "cell_type": "code",
   "execution_count": 259,
   "metadata": {},
   "outputs": [],
   "source": [
    "cpr_cclw_policies_df = pd.merge(\n",
    "    cpr_policies_source_cclw_df,\n",
    "    cclw_df,\n",
    "    on=[\"policy_name\", \"country_code\"],\n",
    "    how=\"left\"\n",
    ")"
   ]
  },
  {
   "cell_type": "code",
   "execution_count": 260,
   "metadata": {},
   "outputs": [
    {
     "data": {
      "text/plain": [
       "2418"
      ]
     },
     "execution_count": 260,
     "metadata": {},
     "output_type": "execute_result"
    }
   ],
   "source": [
    "len(cpr_cclw_policies_df)"
   ]
  },
  {
   "cell_type": "markdown",
   "metadata": {},
   "source": [
    "## Prepare metadata\n",
    "\n",
    "Process metadata fields from cclw:\n",
    "\n",
    "- Create semi-colon delimited lists for columns containing multiple values: responses_list, instruments_list, hazards_list\n",
    "- Create a policy_date column from the first date in the events_list column"
   ]
  },
  {
   "cell_type": "markdown",
   "metadata": {},
   "source": [
    "### Instruments\n",
    "\n",
    "Each entry for instruments is a semi-colon separated list with sub-instrument and top level instrument for each entry:\n",
    "\n",
    "```\n",
    "instrument_name|instrument_category; instrument_name|instrument_category; ...\n",
    "```\n",
    "\n",
    "We will extract the ```instrument_name``` for each entry and keep as a semi-colon separated list."
   ]
  },
  {
   "cell_type": "code",
   "execution_count": 261,
   "metadata": {},
   "outputs": [],
   "source": [
    "def extract_instr_list(instruments: str):\n",
    "    if not pd.isnull(instruments):\n",
    "        processed_instr_list = []\n",
    "        instr_list = instruments.split(\";\")\n",
    "        for instr in instr_list:\n",
    "            processed_instr_list.append(\n",
    "                instr.split(\"|\")[0].strip()\n",
    "            )\n",
    "        \n",
    "        return \";\".join(processed_instr_list)\n",
    "    else:\n",
    "        return instruments"
   ]
  },
  {
   "cell_type": "code",
   "execution_count": 262,
   "metadata": {},
   "outputs": [
    {
     "data": {
      "text/plain": [
       "'Monitoring and evaluation;Developing plans and strategies;Capacity-building - general'"
      ]
     },
     "execution_count": 262,
     "metadata": {},
     "output_type": "execute_result"
    }
   ],
   "source": [
    "extract_instr_list(\"Monitoring and evaluation|Governance and planning; Developing plans and strategies|Governance and planning;  Capacity-building - general|Capacity-building\")"
   ]
  },
  {
   "cell_type": "code",
   "execution_count": 263,
   "metadata": {},
   "outputs": [],
   "source": [
    "cpr_cclw_policies_df.loc[:, \"instrument_list\"] = cpr_cclw_policies_df.loc[:, \"instrument_list\"].apply(lambda i: extract_instr_list(i))"
   ]
  },
  {
   "cell_type": "markdown",
   "metadata": {},
   "source": [
    "### Responses"
   ]
  },
  {
   "cell_type": "code",
   "execution_count": 264,
   "metadata": {},
   "outputs": [],
   "source": [
    "def remove_list_spaces(cclw_list, sep=\",\"):\n",
    "    if not pd.isnull(cclw_list):\n",
    "        cclw_list = cclw_list.split(sep)\n",
    "    \n",
    "        return \";\".join([cclw_item.strip() for cclw_item in cclw_list])\n",
    "    else:\n",
    "        return cclw_list"
   ]
  },
  {
   "cell_type": "code",
   "execution_count": 265,
   "metadata": {},
   "outputs": [],
   "source": [
    "cpr_cclw_policies_df.loc[:, \"responses_list\"] = cpr_cclw_policies_df.loc[:, \"responses_list\"].apply(lambda i: remove_list_spaces(i))"
   ]
  },
  {
   "cell_type": "markdown",
   "metadata": {},
   "source": [
    "### Hazards"
   ]
  },
  {
   "cell_type": "code",
   "execution_count": 266,
   "metadata": {},
   "outputs": [],
   "source": [
    "cpr_cclw_policies_df.loc[:, \"hazard_list\"] = cpr_cclw_policies_df.loc[:, \"hazard_list\"].apply(lambda i: remove_list_spaces(i))"
   ]
  },
  {
   "cell_type": "markdown",
   "metadata": {},
   "source": [
    "### Events"
   ]
  },
  {
   "cell_type": "markdown",
   "metadata": {},
   "source": [
    "Events in cclw are a semicolon separated list of events, in the following format:\n",
    "\n",
    "```\n",
    "event_date|event_name; event_date|event_name; ...\n",
    "```\n",
    "\n",
    "We will extract the first event date in the list."
   ]
  },
  {
   "cell_type": "code",
   "execution_count": 267,
   "metadata": {},
   "outputs": [],
   "source": [
    "def extract_create_event(events: str):\n",
    "    if not pd.isnull(events):\n",
    "        processed_event_list = []\n",
    "        instr_list = events.split(\";\")\n",
    "        for instr in instr_list:\n",
    "            processed_event_list.append(\n",
    "                instr.split(\"|\")[0].strip()\n",
    "            )\n",
    "        \n",
    "        return processed_event_list[0]\n",
    "    else:\n",
    "        return events"
   ]
  },
  {
   "cell_type": "code",
   "execution_count": 268,
   "metadata": {},
   "outputs": [],
   "source": [
    "cpr_cclw_policies_df[\"policy_date\"] = None\n",
    "cpr_cclw_policies_df.loc[:, \"policy_date\"] = cpr_cclw_policies_df.loc[:, \"events_list\"].apply(lambda e: extract_create_event(e))"
   ]
  },
  {
   "cell_type": "markdown",
   "metadata": {},
   "source": [
    "Check policy_date is in the correct format"
   ]
  },
  {
   "cell_type": "code",
   "execution_count": 269,
   "metadata": {},
   "outputs": [
    {
     "data": {
      "text/plain": [
       "array([10., nan])"
      ]
     },
     "execution_count": 269,
     "metadata": {},
     "output_type": "execute_result"
    }
   ],
   "source": [
    "cpr_cclw_policies_df.policy_date.str.len().unique()"
   ]
  },
  {
   "cell_type": "markdown",
   "metadata": {},
   "source": [
    "All policy_date values are either 10 digits (dd/mm/yyyy) or missing, so looks good."
   ]
  },
  {
   "cell_type": "code",
   "execution_count": 292,
   "metadata": {},
   "outputs": [],
   "source": [
    "del cpr_cclw_policies_df[\"events_list\"]"
   ]
  },
  {
   "cell_type": "markdown",
   "metadata": {},
   "source": [
    "## Map cclw sector and instruments to cpr definitions"
   ]
  },
  {
   "cell_type": "markdown",
   "metadata": {},
   "source": [
    "Load instrument and sector mappings"
   ]
  },
  {
   "cell_type": "code",
   "execution_count": 270,
   "metadata": {},
   "outputs": [],
   "source": [
    "schema_path = Path(\"../../schema\")"
   ]
  },
  {
   "cell_type": "code",
   "execution_count": 271,
   "metadata": {},
   "outputs": [],
   "source": [
    "instrument_mapping = pd.read_csv(schema_path / \"cclw_instrument_mapping.csv\", index_col=False)\n",
    "sector_mapping = pd.read_csv(schema_path / \"cclw_sector_mapping.csv\", index_col=False)"
   ]
  },
  {
   "cell_type": "code",
   "execution_count": 272,
   "metadata": {},
   "outputs": [],
   "source": [
    "instrument_mapping = instrument_mapping.dropna().set_index(\"instrument_cclw\")[\"instrument_cpr\"].to_dict()\n",
    "sector_mapping = sector_mapping.dropna().set_index(\"sector_cclw\")[\"sector_cpr\"].to_dict()"
   ]
  },
  {
   "cell_type": "code",
   "execution_count": 273,
   "metadata": {},
   "outputs": [],
   "source": [
    "NO_MAPPING = \"[no_mapping]\"\n",
    "\n",
    "def map_cclw_values(cclw_value_list, mapping, sep=\";\"):\n",
    "    if not pd.isnull(cclw_value_list):\n",
    "        cclw_value_list = cclw_value_list.split(sep)\n",
    "        cclw_value_list = [mapping.get(cclw_value, NO_MAPPING) for cclw_value in cclw_value_list]\n",
    "\n",
    "        return sep.join(cclw_value_list)\n",
    "    else:\n",
    "        return cclw_value_list"
   ]
  },
  {
   "cell_type": "code",
   "execution_count": 274,
   "metadata": {},
   "outputs": [
    {
     "data": {
      "text/html": [
       "<div>\n",
       "<style scoped>\n",
       "    .dataframe tbody tr th:only-of-type {\n",
       "        vertical-align: middle;\n",
       "    }\n",
       "\n",
       "    .dataframe tbody tr th {\n",
       "        vertical-align: top;\n",
       "    }\n",
       "\n",
       "    .dataframe thead th {\n",
       "        text-align: right;\n",
       "    }\n",
       "</style>\n",
       "<table border=\"1\" class=\"dataframe\">\n",
       "  <thead>\n",
       "    <tr style=\"text-align: right;\">\n",
       "      <th></th>\n",
       "      <th>sector_list</th>\n",
       "      <th>new_sector_list</th>\n",
       "    </tr>\n",
       "  </thead>\n",
       "  <tbody>\n",
       "    <tr>\n",
       "      <th>0</th>\n",
       "      <td>Industry;Agriculture;Economy-wide</td>\n",
       "      <td>Industry;Agriculture (general);Economy-wide</td>\n",
       "    </tr>\n",
       "    <tr>\n",
       "      <th>1</th>\n",
       "      <td>Transport;Rural;LULUCF;Energy;Economy-wide;Agr...</td>\n",
       "      <td>Transport (general);Rural;Land use, land use c...</td>\n",
       "    </tr>\n",
       "    <tr>\n",
       "      <th>2</th>\n",
       "      <td>Transport;Rural;LULUCF;Energy;Economy-wide;Agr...</td>\n",
       "      <td>Transport (general);Rural;Land use, land use c...</td>\n",
       "    </tr>\n",
       "    <tr>\n",
       "      <th>3</th>\n",
       "      <td>LULUCF</td>\n",
       "      <td>Land use, land use change and forestry (LULUCF)</td>\n",
       "    </tr>\n",
       "    <tr>\n",
       "      <th>4</th>\n",
       "      <td>LULUCF</td>\n",
       "      <td>Land use, land use change and forestry (LULUCF)</td>\n",
       "    </tr>\n",
       "  </tbody>\n",
       "</table>\n",
       "</div>"
      ],
      "text/plain": [
       "                                         sector_list  \\\n",
       "0                  Industry;Agriculture;Economy-wide   \n",
       "1  Transport;Rural;LULUCF;Energy;Economy-wide;Agr...   \n",
       "2  Transport;Rural;LULUCF;Energy;Economy-wide;Agr...   \n",
       "3                                             LULUCF   \n",
       "4                                             LULUCF   \n",
       "\n",
       "                                     new_sector_list  \n",
       "0        Industry;Agriculture (general);Economy-wide  \n",
       "1  Transport (general);Rural;Land use, land use c...  \n",
       "2  Transport (general);Rural;Land use, land use c...  \n",
       "3    Land use, land use change and forestry (LULUCF)  \n",
       "4    Land use, land use change and forestry (LULUCF)  "
      ]
     },
     "execution_count": 274,
     "metadata": {},
     "output_type": "execute_result"
    }
   ],
   "source": [
    "cpr_cclw_policies_df.loc[:, \"new_sector_list\"] = cpr_cclw_policies_df.loc[:, \"sector_list\"].apply(lambda v: map_cclw_values(v, sector_mapping))\n",
    "cpr_cclw_policies_df.loc[:, [\"sector_list\", \"new_sector_list\"]].head(5)"
   ]
  },
  {
   "cell_type": "code",
   "execution_count": 275,
   "metadata": {},
   "outputs": [],
   "source": [
    "mapping_mask = cpr_cclw_policies_df.new_sector_list.str.contains(\"no_mapping\")\n",
    "mapping_mask.fillna(False, inplace=True)\n",
    "missing_sector_mappings = cpr_cclw_policies_df.loc[mapping_mask, [\"sector_list\", \"new_sector_list\"]].drop_duplicates(subset=[\"sector_list\"])"
   ]
  },
  {
   "cell_type": "code",
   "execution_count": 276,
   "metadata": {},
   "outputs": [],
   "source": [
    "def get_missing_mappings(missing_mappings, cclw_col, mapped_col, sep=\";\"):\n",
    "    missing = []\n",
    "\n",
    "    for row_ix, row in missing_mappings.iterrows():\n",
    "        cclw = row[cclw_col].split(sep)\n",
    "        mapped = row[mapped_col].split(sep)\n",
    "\n",
    "        missing_cclw = []\n",
    "        missing_mapped = []\n",
    "\n",
    "        for mapped_item_ix, mapped in enumerate(mapped):\n",
    "            if mapped == \"[no_mapping]\":\n",
    "                missing_cclw.append(cclw[mapped_item_ix])\n",
    "                missing_mapped.append(mapped)\n",
    "\n",
    "        if len(missing_cclw) > 0:\n",
    "            missing += list(zip(missing_cclw, missing_mapped))\n",
    "\n",
    "    return set(missing)"
   ]
  },
  {
   "cell_type": "code",
   "execution_count": 277,
   "metadata": {},
   "outputs": [
    {
     "data": {
      "text/plain": [
       "set()"
      ]
     },
     "execution_count": 277,
     "metadata": {},
     "output_type": "execute_result"
    }
   ],
   "source": [
    "get_missing_mappings(missing_sector_mappings, \"sector_list\", \"new_sector_list\")"
   ]
  },
  {
   "cell_type": "code",
   "execution_count": 278,
   "metadata": {},
   "outputs": [
    {
     "data": {
      "text/html": [
       "<div>\n",
       "<style scoped>\n",
       "    .dataframe tbody tr th:only-of-type {\n",
       "        vertical-align: middle;\n",
       "    }\n",
       "\n",
       "    .dataframe tbody tr th {\n",
       "        vertical-align: top;\n",
       "    }\n",
       "\n",
       "    .dataframe thead th {\n",
       "        text-align: right;\n",
       "    }\n",
       "</style>\n",
       "<table border=\"1\" class=\"dataframe\">\n",
       "  <thead>\n",
       "    <tr style=\"text-align: right;\">\n",
       "      <th></th>\n",
       "      <th>instrument_list</th>\n",
       "      <th>new_instrument_list</th>\n",
       "    </tr>\n",
       "  </thead>\n",
       "  <tbody>\n",
       "    <tr>\n",
       "      <th>1355</th>\n",
       "      <td>Developing plans and strategies</td>\n",
       "      <td>Developing plans and strategies</td>\n",
       "    </tr>\n",
       "    <tr>\n",
       "      <th>784</th>\n",
       "      <td>Creating bodies and institutions;Designing pro...</td>\n",
       "      <td>Creating bodies and institutions;Designing pro...</td>\n",
       "    </tr>\n",
       "    <tr>\n",
       "      <th>2333</th>\n",
       "      <td>Creating bodies and institutions</td>\n",
       "      <td>Creating bodies and institutions</td>\n",
       "    </tr>\n",
       "    <tr>\n",
       "      <th>635</th>\n",
       "      <td>Subsidies;Designing processes;Taxes</td>\n",
       "      <td>Fiscal or financial incentives;Designing proce...</td>\n",
       "    </tr>\n",
       "    <tr>\n",
       "      <th>1707</th>\n",
       "      <td>Developing plans and strategies;Multi-level go...</td>\n",
       "      <td>Developing plans and strategies;Multi-level go...</td>\n",
       "    </tr>\n",
       "  </tbody>\n",
       "</table>\n",
       "</div>"
      ],
      "text/plain": [
       "                                        instrument_list  \\\n",
       "1355                    Developing plans and strategies   \n",
       "784   Creating bodies and institutions;Designing pro...   \n",
       "2333                   Creating bodies and institutions   \n",
       "635                 Subsidies;Designing processes;Taxes   \n",
       "1707  Developing plans and strategies;Multi-level go...   \n",
       "\n",
       "                                    new_instrument_list  \n",
       "1355                    Developing plans and strategies  \n",
       "784   Creating bodies and institutions;Designing pro...  \n",
       "2333                   Creating bodies and institutions  \n",
       "635   Fiscal or financial incentives;Designing proce...  \n",
       "1707  Developing plans and strategies;Multi-level go...  "
      ]
     },
     "execution_count": 278,
     "metadata": {},
     "output_type": "execute_result"
    }
   ],
   "source": [
    "cpr_cclw_policies_df.loc[:, \"new_instrument_list\"] = cpr_cclw_policies_df.loc[:, \"instrument_list\"].apply(lambda v: map_cclw_values(v, instrument_mapping))\n",
    "cpr_cclw_policies_df.loc[:, [\"instrument_list\", \"new_instrument_list\"]].sample(5)"
   ]
  },
  {
   "cell_type": "code",
   "execution_count": 279,
   "metadata": {},
   "outputs": [],
   "source": [
    "mapping_mask = cpr_cclw_policies_df.new_instrument_list.str.contains(\"no_mapping\")\n",
    "mapping_mask.fillna(False, inplace=True)\n",
    "missing_instr_mappings = cpr_cclw_policies_df.loc[mapping_mask, [\"instrument_list\", \"new_instrument_list\"]].drop_duplicates(subset=[\"instrument_list\"])"
   ]
  },
  {
   "cell_type": "code",
   "execution_count": 280,
   "metadata": {},
   "outputs": [
    {
     "data": {
      "text/plain": [
       "set()"
      ]
     },
     "execution_count": 280,
     "metadata": {},
     "output_type": "execute_result"
    }
   ],
   "source": [
    "get_missing_mappings(missing_instr_mappings, \"instrument_list\", \"new_instrument_list\")"
   ]
  },
  {
   "cell_type": "code",
   "execution_count": 281,
   "metadata": {},
   "outputs": [],
   "source": [
    "del cpr_cclw_policies_df[\"sector_list\"]\n",
    "del cpr_cclw_policies_df[\"instrument_list\"]\n",
    "cpr_cclw_policies_df.rename(columns={\n",
    "    \"new_sector_list\": \"sector_list\",\n",
    "    \"new_instrument_list\": \"instrument_list\"\n",
    "}, inplace=True)"
   ]
  },
  {
   "cell_type": "markdown",
   "metadata": {},
   "source": [
    "### Policy description\n",
    "\n",
    "Policy description from cclw contains html markup. We will use BeautifulSoup to extract only the text for this field."
   ]
  },
  {
   "cell_type": "code",
   "execution_count": 284,
   "metadata": {},
   "outputs": [],
   "source": [
    "def get_description_text(description):\n",
    "    if not pd.isnull(description):\n",
    "        desc_html_parser = BeautifulSoup(description, \"html.parser\")\n",
    "        return desc_html_parser.text\n",
    "    else:\n",
    "        return description"
   ]
  },
  {
   "cell_type": "code",
   "execution_count": 287,
   "metadata": {},
   "outputs": [],
   "source": [
    "cpr_cclw_policies_df.loc[:, \"policy_description\"] = cpr_cclw_policies_df.loc[:, \"policy_description\"].apply(lambda d: get_description_text(d))"
   ]
  },
  {
   "cell_type": "markdown",
   "metadata": {},
   "source": [
    "## Prepare final dataset"
   ]
  },
  {
   "cell_type": "markdown",
   "metadata": {},
   "source": [
    "Merge cclw and cpd policies to create final dataset"
   ]
  },
  {
   "cell_type": "code",
   "execution_count": 293,
   "metadata": {},
   "outputs": [],
   "source": [
    "merged = pd.concat([\n",
    "    cpr_cclw_policies_df,\n",
    "    cpr_policies_df.loc[cpr_policies_df.source_name == \"cpd\", :]\n",
    "], axis=0)"
   ]
  },
  {
   "cell_type": "code",
   "execution_count": 294,
   "metadata": {},
   "outputs": [],
   "source": [
    "merged.to_csv(data_path / \"processed_policies_merged.csv\")"
   ]
  },
  {
   "cell_type": "code",
   "execution_count": null,
   "metadata": {},
   "outputs": [],
   "source": []
  }
 ],
 "metadata": {
  "interpreter": {
   "hash": "949777d72b0d2535278d3dc13498b2535136f6dfe0678499012e853ee9abcab1"
  },
  "kernelspec": {
   "display_name": "Python 3.8.12 64-bit",
   "name": "python3"
  },
  "language_info": {
   "codemirror_mode": {
    "name": "ipython",
    "version": 3
   },
   "file_extension": ".py",
   "mimetype": "text/x-python",
   "name": "python",
   "nbconvert_exporter": "python",
   "pygments_lexer": "ipython3",
   "version": "3.8.12"
  },
  "orig_nbformat": 4
 },
 "nbformat": 4,
 "nbformat_minor": 2
}
